{
 "cells": [
  {
   "cell_type": "code",
   "execution_count": 65,
   "metadata": {},
   "outputs": [],
   "source": [
    "import numpy as np\n",
    "import pandas as pd\n",
    "from sklearn.model_selection import train_test_split as tts\n",
    "from sklearn.datasets import load_breast_cancer\n",
    "from sklearn.metrics import accuracy_score\n",
    "from sklearn.discriminant_analysis import QuadraticDiscriminantAnalysis as qda\n",
    "import time\n",
    "from sklearn.linear_model import LogisticRegression\n",
    "from sklearn.naive_bayes import GaussianNB"
   ]
  },
  {
   "cell_type": "markdown",
   "metadata": {},
   "source": [
    "# Gaussian Discriminate Analysis\n",
    "\n",
    "Here we implement GDA and test it's predicting ability against other methods on the cancer dataset from sklearn."
   ]
  },
  {
   "cell_type": "code",
   "execution_count": 34,
   "metadata": {},
   "outputs": [],
   "source": [
    "cancer = load_breast_cancer()\n",
    "cd = pd.DataFrame(cancer.data)\n",
    "ct = pd.DataFrame(cancer.target)"
   ]
  },
  {
   "cell_type": "markdown",
   "metadata": {},
   "source": [
    "# 2."
   ]
  },
  {
   "cell_type": "code",
   "execution_count": 212,
   "metadata": {},
   "outputs": [],
   "source": [
    "class GDA:\n",
    "    def __init__(self, priors=None,tol=1.0e-3):\n",
    "        self.tol = tol\n",
    "        self.priors = np.asarray(priors) if priors is not None else None\n",
    "        \n",
    "    def fit(self,X,y):\n",
    "        self.classes_, y = np.unique(y, return_inverse=True)\n",
    "        n_samples, n_features = X.shape\n",
    "        n_classes = len(self.classes_)\n",
    "        if self.priors is None:\n",
    "            self.priors_ = np.bincount(y) / float(n_samples)\n",
    "        else:\n",
    "            self.priors_ = self.priors\n",
    "        means = []\n",
    "        cov = []\n",
    "        rotations = []\n",
    "        scalings = []\n",
    "        for i in range(n_classes):\n",
    "            Xg = X[y == i, :]\n",
    "            meang = Xg.mean(0)\n",
    "            means.append(meang)\n",
    "            Xgc = Xg - meang\n",
    "            U, S, Vt = np.linalg.svd(Xgc, full_matrices=False)\n",
    "            rank = np.sum(S > self.tol)\n",
    "            S2 = (S ** 2) / (len(Xg) - 1)\n",
    "            cov.append(np.dot(S2 * Vt.T, Vt))\n",
    "            scalings.append(S2)\n",
    "            rotations.append(Vt.T)\n",
    "        self.covariance_ = cov\n",
    "        self.means_ = np.asarray(means)\n",
    "        self.scalings_ = scalings\n",
    "        self.rotations_ = rotations\n",
    "        return self\n",
    "    \n",
    "    def helper(self,X):\n",
    "        norm2 = []\n",
    "        for i in range(len(self.classes_)):\n",
    "            R = self.rotations_[i]\n",
    "            S = self.scalings_[i]\n",
    "            Xm = X - self.means_[i]\n",
    "            X2 = np.dot(Xm, R * (S ** (-0.5)))\n",
    "            norm2.append(np.sum(X2 ** 2, 1))\n",
    "        norm2 = np.array(norm2).T\n",
    "        u = np.asarray([np.sum(np.log(s)) for s in self.scalings_])\n",
    "        return (-0.5 * (norm2 + u) + np.log(self.priors_))\n",
    "    \n",
    "    def predict_proba(self,X):\n",
    "        dec_func = self.helper(X)\n",
    "        if len(self.classes_) == 2:\n",
    "            values = dec_func[:, 1] - dec_func[:, 0]\n",
    "        else:\n",
    "            values = dec_func\n",
    "        # compute the likelihood of the underlying gaussian models\n",
    "        # up to a multiplicative constant.\n",
    "        likelihood = np.exp(values - values.max()[:, np.newaxis])\n",
    "        # compute posterior probabilities\n",
    "        return likelihood / likelihood.sum()[:, np.newaxis]\n",
    "    \n",
    "    def predict(self, X):\n",
    "        d = self.helper(X)\n",
    "        y_pred = self.classes_.take(d.argmax(1))\n",
    "        return y_pred\n",
    "    \n",
    "    def score(self, X, y, sample_weight=None):\n",
    "        return accuracy_score(y, self.predict(X), sample_weight=sample_weight)"
   ]
  },
  {
   "cell_type": "markdown",
   "metadata": {},
   "source": [
    "# 3."
   ]
  },
  {
   "cell_type": "code",
   "execution_count": 216,
   "metadata": {},
   "outputs": [
    {
     "name": "stdout",
     "output_type": "stream",
     "text": [
      "0.973404255319149\n"
     ]
    }
   ],
   "source": [
    "X_train, X_test, y_train, y_test = tts(cancer.data,cancer.target,test_size=0.33)\n",
    "gda = GDA().fit(X_train,y_train)\n",
    "gda.predict(X_test)\n",
    "print(gda.score(X_test,y_test))"
   ]
  },
  {
   "cell_type": "code",
   "execution_count": 217,
   "metadata": {},
   "outputs": [
    {
     "name": "stdout",
     "output_type": "stream",
     "text": [
      "0.9468085106382979\n"
     ]
    }
   ],
   "source": [
    "g=GaussianNB().fit(X_train,y_train)\n",
    "print(g.score(X_test,y_test))"
   ]
  },
  {
   "cell_type": "code",
   "execution_count": 218,
   "metadata": {},
   "outputs": [
    {
     "name": "stdout",
     "output_type": "stream",
     "text": [
      "0.9627659574468085\n"
     ]
    }
   ],
   "source": [
    "clf = LogisticRegression(solver = 'liblinear').fit(X_train,y_train)\n",
    "print(clf.score(X_test,y_test))"
   ]
  },
  {
   "cell_type": "markdown",
   "metadata": {},
   "source": [
    "The logistic regression and my code looks to get a much better score than naive bayes. This mean the data is probably linear or the error tolerances aren't all the same"
   ]
  },
  {
   "cell_type": "markdown",
   "metadata": {},
   "source": [
    "# 4."
   ]
  },
  {
   "cell_type": "code",
   "execution_count": 219,
   "metadata": {},
   "outputs": [
    {
     "name": "stdout",
     "output_type": "stream",
     "text": [
      "sklearn time: 0.008606672286987305\n",
      "My time: 0.0077512264251708984\n",
      "My score is np allclose to sklearn? True\n"
     ]
    }
   ],
   "source": [
    "X_train, X_test, y_train, y_test = tts(cancer.data,cancer.target,test_size=0.33)\n",
    "start = time.time()\n",
    "q=qda().fit(X_train,y_train)\n",
    "qscore = q.score(X_test,y_test)\n",
    "print(\"sklearn time: {}\".format(time.time()-start))\n",
    "start = time.time()\n",
    "g=GDA().fit(X_train,y_train)\n",
    "gscore = g.score(X_test,y_test)\n",
    "print(\"My time: {}\".format(time.time()-start))\n",
    "print(\"My score is np allclose to sklearn? {}\".format(np.allclose(qscore,gscore)))"
   ]
  }
 ],
 "metadata": {
  "kernelspec": {
   "display_name": "Python 3",
   "language": "python",
   "name": "python3"
  },
  "language_info": {
   "codemirror_mode": {
    "name": "ipython",
    "version": 3
   },
   "file_extension": ".py",
   "mimetype": "text/x-python",
   "name": "python",
   "nbconvert_exporter": "python",
   "pygments_lexer": "ipython3",
   "version": "3.7.1"
  }
 },
 "nbformat": 4,
 "nbformat_minor": 2
}
