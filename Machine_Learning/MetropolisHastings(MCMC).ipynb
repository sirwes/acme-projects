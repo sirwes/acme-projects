{
 "cells": [
  {
   "cell_type": "code",
   "execution_count": 1,
   "metadata": {},
   "outputs": [],
   "source": [
    "import numpy as np\n",
    "from matplotlib import pyplot as plt"
   ]
  },
  {
   "cell_type": "markdown",
   "metadata": {},
   "source": [
    "# Metropolis Hastings Algorithm (MCMC)\n",
    "\n",
    "Here we implement and test this MCMC algorithm on the Zipf dataset"
   ]
  },
  {
   "cell_type": "code",
   "execution_count": 2,
   "metadata": {},
   "outputs": [],
   "source": [
    "class Zipf:\n",
    "    def __init__(self,M,N,a,x0,K):\n",
    "        self.M,self.N,self.a,self.x0,self.K = M,N,a,x0,K\n",
    "        self.states = np.arange(1,M+1)\n",
    "        self.B = np.ones((M,M))/M\n",
    "        self.s = np.array([float(i)**-self.a for i in self.states])\n",
    "        self.s /= sum(self.s)\n",
    "    \n",
    "    def sample(self):\n",
    "        it = 0\n",
    "        i = self.x0\n",
    "        tracking = [self.x0]\n",
    "        while it < self.N:\n",
    "            j = np.random.choice(self.states,p=self.B[i-1])\n",
    "            aij = min([1,self.s[j-1]*self.B[j-1,i-1]/(self.s[i-1]*self.B[i-1,j-1])])\n",
    "            d = np.random.random()\n",
    "            if d <= aij:\n",
    "                i=j\n",
    "            tracking.append(i)\n",
    "            it+=1\n",
    "        return tracking"
   ]
  },
  {
   "cell_type": "code",
   "execution_count": 3,
   "metadata": {},
   "outputs": [],
   "source": [
    "z = Zipf(10,10**5,2,1,0)\n",
    "t = z.sample()"
   ]
  },
  {
   "cell_type": "code",
   "execution_count": 4,
   "metadata": {},
   "outputs": [
    {
     "data": {
      "image/png": "[encoded data removed]",
      "text/plain": [
       "<Figure size 432x288 with 1 Axes>"
      ]
     },
     "metadata": {
      "needs_background": "light"
     },
     "output_type": "display_data"
    }
   ],
   "source": [
    "d=np.array([i**-2 for i in range(1,21)])\n",
    "tot = sum(d)\n",
    "target = d/tot\n",
    "plt.plot(range(1,21),target,label=\"Target Distribution\")\n",
    "plt.hist(t,density=True,label=\"Results\",bins=5)\n",
    "plt.title('Metropolis Hastings approximation')\n",
    "plt.xlabel(\"x\")\n",
    "plt.legend(loc=0)\n",
    "plt.ylabel(\"y\")\n",
    "plt.show()"
   ]
  }
 ],
 "metadata": {
  "kernelspec": {
   "display_name": "Python 3",
   "language": "python",
   "name": "python3"
  },
  "language_info": {
   "codemirror_mode": {
    "name": "ipython",
    "version": 3
   },
   "file_extension": ".py",
   "mimetype": "text/x-python",
   "name": "python",
   "nbconvert_exporter": "python",
   "pygments_lexer": "ipython3",
   "version": "3.7.1"
  }
 },
 "nbformat": 4,
 "nbformat_minor": 2
}
