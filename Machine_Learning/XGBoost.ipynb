{
 "cells": [
  {
   "cell_type": "code",
   "execution_count": 63,
   "metadata": {},
   "outputs": [],
   "source": [
    "from keras.datasets import fashion_mnist\n",
    "from sklearn.model_selection import train_test_split\n",
    "from sklearn.metrics import accuracy_score\n",
    "from sklearn.metrics import r2_score\n",
    "import xgboost\n",
    "import pandas as pd\n",
    "import numpy as np"
   ]
  },
  {
   "cell_type": "markdown",
   "metadata": {},
   "source": [
    "XGBoost Classifier on the Fashion MNIST dataset"
   ]
  },
  {
   "cell_type": "code",
   "execution_count": 10,
   "metadata": {},
   "outputs": [
    {
     "data": {
      "text/plain": [
       "0.8582"
      ]
     },
     "execution_count": 10,
     "metadata": {},
     "output_type": "execute_result"
    }
   ],
   "source": [
    "(X_train,y_train),(X_test,y_test) = fashion_mnist.load_data()\n",
    "# X_train,y_train,X_test,y_test = train_test_split(fdf,target,test_size=0.33, random_state=42)\n",
    "X_train = X_train.reshape((-1,28*28))\n",
    "X_test = X_test.reshape((-1,28*28))\n",
    "model = xgboost.XGBClassifier()\n",
    "model.fit(X_train,y_train)\n",
    "accuracy_score(y_test,model.predict(X_test))"
   ]
  },
  {
   "cell_type": "markdown",
   "metadata": {},
   "source": [
    "Testing XGBoost on my own data"
   ]
  },
  {
   "cell_type": "code",
   "execution_count": 36,
   "metadata": {},
   "outputs": [
    {
     "data": {
      "text/html": [
       "<div>\n",
       "<style scoped>\n",
       "    .dataframe tbody tr th:only-of-type {\n",
       "        vertical-align: middle;\n",
       "    }\n",
       "\n",
       "    .dataframe tbody tr th {\n",
       "        vertical-align: top;\n",
       "    }\n",
       "\n",
       "    .dataframe thead th {\n",
       "        text-align: right;\n",
       "    }\n",
       "</style>\n",
       "<table border=\"1\" class=\"dataframe\">\n",
       "  <thead>\n",
       "    <tr style=\"text-align: right;\">\n",
       "      <th></th>\n",
       "      <th>Bedrooms</th>\n",
       "      <th>Bathrooms</th>\n",
       "      <th>HouseSize</th>\n",
       "      <th>LotSize</th>\n",
       "      <th>YearBuilt</th>\n",
       "      <th>DaysOnMarket</th>\n",
       "      <th>Zipcode</th>\n",
       "      <th>ElementarySchoolRating</th>\n",
       "    </tr>\n",
       "  </thead>\n",
       "  <tbody>\n",
       "    <tr>\n",
       "      <th>23319</th>\n",
       "      <td>3.0</td>\n",
       "      <td>5.0</td>\n",
       "      <td>1525.0</td>\n",
       "      <td>0.01</td>\n",
       "      <td>2001.0</td>\n",
       "      <td>187.0</td>\n",
       "      <td>80125</td>\n",
       "      <td>5.0</td>\n",
       "    </tr>\n",
       "    <tr>\n",
       "      <th>23805</th>\n",
       "      <td>5.0</td>\n",
       "      <td>75.0</td>\n",
       "      <td>1714.0</td>\n",
       "      <td>0.24</td>\n",
       "      <td>1969.0</td>\n",
       "      <td>495.0</td>\n",
       "      <td>80911</td>\n",
       "      <td>6.0</td>\n",
       "    </tr>\n",
       "    <tr>\n",
       "      <th>16473</th>\n",
       "      <td>4.0</td>\n",
       "      <td>75.0</td>\n",
       "      <td>3944.0</td>\n",
       "      <td>0.02</td>\n",
       "      <td>2007.0</td>\n",
       "      <td>511.0</td>\n",
       "      <td>80446</td>\n",
       "      <td>5.0</td>\n",
       "    </tr>\n",
       "    <tr>\n",
       "      <th>2390</th>\n",
       "      <td>4.0</td>\n",
       "      <td>5.0</td>\n",
       "      <td>1949.0</td>\n",
       "      <td>0.12</td>\n",
       "      <td>2000.0</td>\n",
       "      <td>75.0</td>\n",
       "      <td>85335</td>\n",
       "      <td>4.0</td>\n",
       "    </tr>\n",
       "    <tr>\n",
       "      <th>6801</th>\n",
       "      <td>3.0</td>\n",
       "      <td>5.0</td>\n",
       "      <td>1491.0</td>\n",
       "      <td>0.06</td>\n",
       "      <td>2008.0</td>\n",
       "      <td>1988.0</td>\n",
       "      <td>85353</td>\n",
       "      <td>4.0</td>\n",
       "    </tr>\n",
       "  </tbody>\n",
       "</table>\n",
       "</div>"
      ],
      "text/plain": [
       "       Bedrooms  Bathrooms  HouseSize  LotSize  YearBuilt  DaysOnMarket  \\\n",
       "23319       3.0        5.0     1525.0     0.01     2001.0         187.0   \n",
       "23805       5.0       75.0     1714.0     0.24     1969.0         495.0   \n",
       "16473       4.0       75.0     3944.0     0.02     2007.0         511.0   \n",
       "2390        4.0        5.0     1949.0     0.12     2000.0          75.0   \n",
       "6801        3.0        5.0     1491.0     0.06     2008.0        1988.0   \n",
       "\n",
       "       Zipcode  ElementarySchoolRating  \n",
       "23319    80125                     5.0  \n",
       "23805    80911                     6.0  \n",
       "16473    80446                     5.0  \n",
       "2390     85335                     4.0  \n",
       "6801     85353                     4.0  "
      ]
     },
     "execution_count": 36,
     "metadata": {},
     "output_type": "execute_result"
    }
   ],
   "source": [
    "df = pd.read_csv(\"cleanRealEstate.csv\",sep='\\t')\n",
    "target = df.SoldPrice\n",
    "df = df.drop([\"SoldPrice\",'City','Unnamed: 0',\"Foreclosed_True\",'State_CO','State_NV'],axis=1)\n",
    "df.sample(5)"
   ]
  },
  {
   "cell_type": "code",
   "execution_count": null,
   "metadata": {},
   "outputs": [],
   "source": [
    "X_train,X_test,y_train,y_test = train_test_split(df,target,test_size=0.33, random_state=42)\n",
    "# X_train = np.ravel(X_train)\n",
    "# X_test = np.ravel(X_test)\n",
    "# y_train = np.ravel(y_train)\n",
    "# y_test = np.ravel(y_test)\n",
    "print(y_train.shape,X_train.shape)\n",
    "model = xgboost.XGBClassifier()\n",
    "model.fit(X_train,y_train)\n",
    "r2_score(y_test,model.predict(X_test))"
   ]
  },
  {
   "cell_type": "code",
   "execution_count": 61,
   "metadata": {},
   "outputs": [],
   "source": [
    "p = model.predict(X_test)"
   ]
  },
  {
   "cell_type": "code",
   "execution_count": 64,
   "metadata": {},
   "outputs": [
    {
     "data": {
      "text/plain": [
       "0.5626967199733535"
      ]
     },
     "execution_count": 64,
     "metadata": {},
     "output_type": "execute_result"
    }
   ],
   "source": [
    "r2_score(y_test,p)"
   ]
  },
  {
   "cell_type": "markdown",
   "metadata": {},
   "source": [
    "A poor score to be sure. I'm confident that if we included a few more features and did some hypertuning it would get a higher score."
   ]
  }
 ],
 "metadata": {
  "kernelspec": {
   "display_name": "Python 3",
   "language": "python",
   "name": "python3"
  },
  "language_info": {
   "codemirror_mode": {
    "name": "ipython",
    "version": 3
   },
   "file_extension": ".py",
   "mimetype": "text/x-python",
   "name": "python",
   "nbconvert_exporter": "python",
   "pygments_lexer": "ipython3",
   "version": "3.7.1"
  }
 },
 "nbformat": 4,
 "nbformat_minor": 2
}
