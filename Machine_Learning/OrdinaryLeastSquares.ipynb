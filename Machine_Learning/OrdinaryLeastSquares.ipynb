{
 "cells": [
  {
   "cell_type": "code",
   "execution_count": 89,
   "metadata": {},
   "outputs": [],
   "source": [
    "import pandas as pd\n",
    "import numpy as np\n",
    "from matplotlib import pyplot as plt\n",
    "from numpy import linalg as la\n",
    "import time"
   ]
  },
  {
   "cell_type": "markdown",
   "metadata": {},
   "source": [
    "The file DatasaurusDozen.tsv has 13 datasets with several x and y values for each set. You can read them into a pandas dataframe with pd.read_csv('DatasaurusDozen.tsv',sep='t', header=0)"
   ]
  },
  {
   "cell_type": "code",
   "execution_count": 4,
   "metadata": {},
   "outputs": [
    {
     "data": {
      "text/html": [
       "<div>\n",
       "<style scoped>\n",
       "    .dataframe tbody tr th:only-of-type {\n",
       "        vertical-align: middle;\n",
       "    }\n",
       "\n",
       "    .dataframe tbody tr th {\n",
       "        vertical-align: top;\n",
       "    }\n",
       "\n",
       "    .dataframe thead th {\n",
       "        text-align: right;\n",
       "    }\n",
       "</style>\n",
       "<table border=\"1\" class=\"dataframe\">\n",
       "  <thead>\n",
       "    <tr style=\"text-align: right;\">\n",
       "      <th></th>\n",
       "      <th>x</th>\n",
       "      <th>y</th>\n",
       "    </tr>\n",
       "  </thead>\n",
       "  <tbody>\n",
       "    <tr>\n",
       "      <th>count</th>\n",
       "      <td>1846.000000</td>\n",
       "      <td>1846.000000</td>\n",
       "    </tr>\n",
       "    <tr>\n",
       "      <th>mean</th>\n",
       "      <td>54.265695</td>\n",
       "      <td>47.835099</td>\n",
       "    </tr>\n",
       "    <tr>\n",
       "      <th>std</th>\n",
       "      <td>16.713001</td>\n",
       "      <td>26.847766</td>\n",
       "    </tr>\n",
       "    <tr>\n",
       "      <th>min</th>\n",
       "      <td>15.560750</td>\n",
       "      <td>0.015119</td>\n",
       "    </tr>\n",
       "    <tr>\n",
       "      <th>25%</th>\n",
       "      <td>41.073403</td>\n",
       "      <td>22.561073</td>\n",
       "    </tr>\n",
       "    <tr>\n",
       "      <th>50%</th>\n",
       "      <td>52.591269</td>\n",
       "      <td>47.594450</td>\n",
       "    </tr>\n",
       "    <tr>\n",
       "      <th>75%</th>\n",
       "      <td>67.277845</td>\n",
       "      <td>71.810778</td>\n",
       "    </tr>\n",
       "    <tr>\n",
       "      <th>max</th>\n",
       "      <td>98.288123</td>\n",
       "      <td>99.694680</td>\n",
       "    </tr>\n",
       "  </tbody>\n",
       "</table>\n",
       "</div>"
      ],
      "text/plain": [
       "                 x            y\n",
       "count  1846.000000  1846.000000\n",
       "mean     54.265695    47.835099\n",
       "std      16.713001    26.847766\n",
       "min      15.560750     0.015119\n",
       "25%      41.073403    22.561073\n",
       "50%      52.591269    47.594450\n",
       "75%      67.277845    71.810778\n",
       "max      98.288123    99.694680"
      ]
     },
     "execution_count": 4,
     "metadata": {},
     "output_type": "execute_result"
    }
   ],
   "source": [
    "df = pd.read_csv('DatasaurusDozen.tsv',sep='\\t',header=0)\n",
    "df.describe()"
   ]
  },
  {
   "cell_type": "code",
   "execution_count": 8,
   "metadata": {},
   "outputs": [
    {
     "name": "stdout",
     "output_type": "stream",
     "text": [
      "The mean of x is 54.265695295881.\n",
      " The mean of y is 47.835099204122685\n",
      "The sample variance for x is 279.32441729208983.\n",
      " The sample variance for y is 720.802557651104\n"
     ]
    }
   ],
   "source": [
    "print(\"The mean of x is {}.\\n The mean of y is {}\".format(df.x.mean(),df.y.mean()))\n",
    "print(\"The sample variance for x is {}.\\n The sample variance for y is {}\".format(df.x.var(),df.y.var()))"
   ]
  },
  {
   "cell_type": "code",
   "execution_count": 34,
   "metadata": {},
   "outputs": [
    {
     "data": {
      "image/png": "[encoded data removed]",
      "text/plain": [
       "<matplotlib.figure.Figure at 0x29de199b7b8>"
      ]
     },
     "metadata": {},
     "output_type": "display_data"
    }
   ],
   "source": [
    "X,Y = df.x.as_matrix(),df.y.as_matrix()\n",
    "B = X.T@Y/(X.T@X)\n",
    "plt.plot([B*x for x in range(100)],label='Best Fit')\n",
    "plt.plot(df.x,df.y,'k,',label='Data')\n",
    "plt.legend(loc=0)\n",
    "plt.xlabel(\"x\")\n",
    "plt.ylabel(\"y\")\n",
    "plt.title(\"Linear best fit vs Data\")\n",
    "plt.show()"
   ]
  },
  {
   "cell_type": "markdown",
   "metadata": {},
   "source": [
    "My Conclusion is that our data is not linear. We should look for a better model"
   ]
  },
  {
   "cell_type": "code",
   "execution_count": 163,
   "metadata": {},
   "outputs": [],
   "source": [
    "def SVDSolver(X,Y):\n",
    "    \"\"\"Least squares solver using the SVD\n",
    "    Inputs:\n",
    "        X (nxd-array): sample from independant variables\n",
    "        Y (nd-array): dependent variable\n",
    "    Returns:\n",
    "        B (nd-array): estimated coefficients of the linear model\n",
    "        \"\"\"\n",
    "    U,S,V = la.svd(X,full_matrices=False)\n",
    "    Sinv = (1/S)*np.eye(len(S))\n",
    "    S = S*np.eye(len(S))\n",
    "    x = U@S@V.T\n",
    "    left = la.inv(x.T@x)\n",
    "    return left@(x.T@Y)\n",
    "\n",
    "def LeastSquaresSolver(X,Y):\n",
    "    \"\"\"Least squares solver using np.linalg.solve\n",
    "    Inputs:\n",
    "        X (nxd-array): sample from independant variables\n",
    "        Y (nd-array): dependent variable\n",
    "    Returns:\n",
    "        B (nd-array): estimated coefficients of the linear model\n",
    "        \"\"\"\n",
    "    return la.solve(X.T@X,X.T@Y)\n",
    "\n",
    "def LeastSquaresSolverQR(X,Y):\n",
    "    \"\"\"Least squares solver using QR decomp\n",
    "    Inputs:\n",
    "        X (nxd-array): sample from independant variables\n",
    "        Y (nd-array): dependent variable\n",
    "    Returns:\n",
    "        B (nd-array): estimated coefficients of the linear model\n",
    "        \"\"\"\n",
    "    Q,R = sla.qr(X)\n",
    "    return sla.solve_triangular(R[:3],Q[:3]@Y)"
   ]
  },
  {
   "cell_type": "code",
   "execution_count": 114,
   "metadata": {},
   "outputs": [],
   "source": [
    "n,d=10**3,3\n",
    "X = np.random.random((n,d))\n",
    "b=[1,2,3]\n",
    "e=np.random.random(n)\n",
    "Y = np.dot(X,b) + e"
   ]
  },
  {
   "cell_type": "code",
   "execution_count": 115,
   "metadata": {},
   "outputs": [
    {
     "name": "stdout",
     "output_type": "stream",
     "text": [
      "Known Beta value:[1, 2, 3]\n",
      "ApproximatedValue[ 2.85697843 -2.74200057  1.52466812]\n"
     ]
    }
   ],
   "source": [
    "bhat = SVDSolver(X,Y)\n",
    "print(\"Known Beta value:{}\\nApproximatedValue{}\".format(b,bhat))"
   ]
  },
  {
   "cell_type": "code",
   "execution_count": 126,
   "metadata": {},
   "outputs": [
    {
     "name": "stdout",
     "output_type": "stream",
     "text": [
      "The QR solver finished in 0.023964643478393555 seconds\n",
      "\t it was off by [1.09022407 0.52017875 0.32350896]\n"
     ]
    }
   ],
   "source": [
    "start = time.time()\n",
    "bQR=LeastSquaresSolverQR(X,Y)\n",
    "end = time.time()\n",
    "print(\"The QR solver finished in {} seconds\\n\\t it was off by {}\".format(end-start,abs(bQR-b)))"
   ]
  },
  {
   "cell_type": "code",
   "execution_count": 158,
   "metadata": {},
   "outputs": [
    {
     "name": "stdout",
     "output_type": "stream",
     "text": [
      "The naive solver finished in 0.00399327278137207 seconds\n",
      "\t it was off by [0.31157352 0.27329421 0.33427865]\n"
     ]
    }
   ],
   "source": [
    "start1 = time.time()\n",
    "bSolve=LeastSquaresSolver(X,Y)\n",
    "end = time.time()\n",
    "print(\"The naive solver finished in {} seconds\\n\\t it was off by {}\".format(end-start1,abs(bSolve-b)))"
   ]
  },
  {
   "cell_type": "code",
   "execution_count": 128,
   "metadata": {},
   "outputs": [
    {
     "name": "stdout",
     "output_type": "stream",
     "text": [
      "The SVD Solver finished in 0.003969669342041016 seconds\n",
      "\t it was off by [1.85697843 4.74200057 1.47533188]\n"
     ]
    }
   ],
   "source": [
    "start2 = time.time()\n",
    "bhat = SVDSolver(X,Y)\n",
    "end = time.time()\n",
    "print(\"The SVD Solver finished in {} seconds\\n\\t it was off by {}\".format(end-start2,abs(bhat-b)))"
   ]
  },
  {
   "cell_type": "code",
   "execution_count": 159,
   "metadata": {},
   "outputs": [],
   "source": [
    "n,d,r=10**3,6,3\n",
    "Z = np.random.random((n,r))\n",
    "X = np.hstack([Z,Z])\n",
    "b=[1,2,3,1,2,3]\n",
    "e=np.random.random(n)\n",
    "Y = np.dot(X,b) + e"
   ]
  },
  {
   "cell_type": "code",
   "execution_count": 164,
   "metadata": {},
   "outputs": [
    {
     "name": "stdout",
     "output_type": "stream",
     "text": [
      "Known Beta value:[1, 2, 3, 1, 2, 3]\n",
      "ApproximatedValue[192. -77. 112. -96. -20. -96.]\n",
      "The residuals are [191.  79. 109.  97.  22.  99.]\n"
     ]
    }
   ],
   "source": [
    "bhat = SVDSolver(X,Y)\n",
    "print(\"Known Beta value:{}\\nApproximatedValue{}\".format(b,bhat))\n",
    "print('The residuals are {}'.format(abs(bhat-b)))"
   ]
  }
 ],
 "metadata": {
  "kernelspec": {
   "display_name": "Python 3",
   "language": "python",
   "name": "python3"
  },
  "language_info": {
   "codemirror_mode": {
    "name": "ipython",
    "version": 3
   },
   "file_extension": ".py",
   "mimetype": "text/x-python",
   "name": "python",
   "nbconvert_exporter": "python",
   "pygments_lexer": "ipython3",
   "version": "3.7.1"
  }
 },
 "nbformat": 4,
 "nbformat_minor": 2
}
