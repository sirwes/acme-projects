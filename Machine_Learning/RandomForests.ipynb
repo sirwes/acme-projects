{
 "cells": [
  {
   "cell_type": "code",
   "execution_count": 22,
   "metadata": {},
   "outputs": [],
   "source": [
    "from sklearn import datasets\n",
    "from keras.datasets import fashion_mnist\n",
    "from sklearn.utils import shuffle\n",
    "from sklearn.model_selection import train_test_split\n",
    "from sklearn.ensemble import RandomForestClassifier as rfc\n",
    "from sklearn.ensemble import RandomForestRegressor as rfr\n",
    "import pandas as pd"
   ]
  },
  {
   "cell_type": "markdown",
   "metadata": {},
   "source": [
    "Boston Housing Random Forest Regression"
   ]
  },
  {
   "cell_type": "code",
   "execution_count": 15,
   "metadata": {},
   "outputs": [
    {
     "name": "stdout",
     "output_type": "stream",
     "text": [
      "0.817851865344453\n"
     ]
    }
   ],
   "source": [
    "bosdf = datasets.load_boston()\n",
    "X, y = shuffle(bosdf.data, bosdf.target, random_state=13)\n",
    "X_train, X_test, y_train, y_test = train_test_split(X, y, test_size=0.33, random_state=42)\n",
    "regr = rfr(max_depth=4,n_estimators=1000)\n",
    "regr.fit(X_train,y_train)\n",
    "print(regr.score(X_test,y_test))"
   ]
  },
  {
   "cell_type": "markdown",
   "metadata": {},
   "source": [
    "Fashion MNIST Random Forest Classification"
   ]
  },
  {
   "cell_type": "code",
   "execution_count": null,
   "metadata": {},
   "outputs": [],
   "source": [
    "(X_train, y_train), (X_test, y_test) = fashion_mnist.load_data()"
   ]
  },
  {
   "cell_type": "code",
   "execution_count": 26,
   "metadata": {},
   "outputs": [],
   "source": [
    "X_train = X_train.reshape((-1,28*28))\n",
    "X_test = X_test.reshape((-1,28*28))"
   ]
  },
  {
   "cell_type": "code",
   "execution_count": 29,
   "metadata": {},
   "outputs": [
    {
     "data": {
      "text/plain": [
       "0.788"
      ]
     },
     "execution_count": 29,
     "metadata": {},
     "output_type": "execute_result"
    }
   ],
   "source": [
    "res = rfc(n_estimators=120,max_depth=6)\n",
    "res.fit(X_train,y_train)\n",
    "res.score(X_test,y_test)"
   ]
  },
  {
   "cell_type": "markdown",
   "metadata": {},
   "source": [
    "Test Random Forests on my Data Project's Data"
   ]
  },
  {
   "cell_type": "code",
   "execution_count": 36,
   "metadata": {},
   "outputs": [
    {
     "data": {
      "text/html": [
       "<div>\n",
       "<style scoped>\n",
       "    .dataframe tbody tr th:only-of-type {\n",
       "        vertical-align: middle;\n",
       "    }\n",
       "\n",
       "    .dataframe tbody tr th {\n",
       "        vertical-align: top;\n",
       "    }\n",
       "\n",
       "    .dataframe thead th {\n",
       "        text-align: right;\n",
       "    }\n",
       "</style>\n",
       "<table border=\"1\" class=\"dataframe\">\n",
       "  <thead>\n",
       "    <tr style=\"text-align: right;\">\n",
       "      <th></th>\n",
       "      <th>Bedrooms</th>\n",
       "      <th>Bathrooms</th>\n",
       "      <th>HouseSize</th>\n",
       "      <th>LotSize</th>\n",
       "      <th>YearBuilt</th>\n",
       "      <th>DaysOnMarket</th>\n",
       "      <th>SoldPrice</th>\n",
       "      <th>ElementarySchoolRating</th>\n",
       "      <th>Foreclosed_True</th>\n",
       "      <th>State_CO</th>\n",
       "      <th>State_NV</th>\n",
       "    </tr>\n",
       "    <tr>\n",
       "      <th>Unnamed: 0</th>\n",
       "      <th></th>\n",
       "      <th></th>\n",
       "      <th></th>\n",
       "      <th></th>\n",
       "      <th></th>\n",
       "      <th></th>\n",
       "      <th></th>\n",
       "      <th></th>\n",
       "      <th></th>\n",
       "      <th></th>\n",
       "      <th></th>\n",
       "    </tr>\n",
       "  </thead>\n",
       "  <tbody>\n",
       "    <tr>\n",
       "      <th>1814</th>\n",
       "      <td>3.0</td>\n",
       "      <td>5.0</td>\n",
       "      <td>2811.0</td>\n",
       "      <td>1.00</td>\n",
       "      <td>2001.0</td>\n",
       "      <td>293.0</td>\n",
       "      <td>0.750000</td>\n",
       "      <td>8.0</td>\n",
       "      <td>0</td>\n",
       "      <td>0</td>\n",
       "      <td>0</td>\n",
       "    </tr>\n",
       "    <tr>\n",
       "      <th>18678</th>\n",
       "      <td>3.0</td>\n",
       "      <td>2.0</td>\n",
       "      <td>3623.0</td>\n",
       "      <td>0.19</td>\n",
       "      <td>2015.0</td>\n",
       "      <td>574.0</td>\n",
       "      <td>0.420000</td>\n",
       "      <td>3.0</td>\n",
       "      <td>0</td>\n",
       "      <td>1</td>\n",
       "      <td>0</td>\n",
       "    </tr>\n",
       "    <tr>\n",
       "      <th>18089</th>\n",
       "      <td>3.0</td>\n",
       "      <td>2.0</td>\n",
       "      <td>1361.0</td>\n",
       "      <td>0.50</td>\n",
       "      <td>1994.0</td>\n",
       "      <td>722.0</td>\n",
       "      <td>0.098529</td>\n",
       "      <td>6.0</td>\n",
       "      <td>0</td>\n",
       "      <td>1</td>\n",
       "      <td>0</td>\n",
       "    </tr>\n",
       "    <tr>\n",
       "      <th>30395</th>\n",
       "      <td>4.0</td>\n",
       "      <td>75.0</td>\n",
       "      <td>1408.0</td>\n",
       "      <td>0.24</td>\n",
       "      <td>1972.0</td>\n",
       "      <td>113.0</td>\n",
       "      <td>0.205000</td>\n",
       "      <td>8.0</td>\n",
       "      <td>0</td>\n",
       "      <td>1</td>\n",
       "      <td>0</td>\n",
       "    </tr>\n",
       "  </tbody>\n",
       "</table>\n",
       "</div>"
      ],
      "text/plain": [
       "            Bedrooms  Bathrooms  HouseSize  LotSize  YearBuilt  DaysOnMarket  \\\n",
       "Unnamed: 0                                                                     \n",
       "1814             3.0        5.0     2811.0     1.00     2001.0         293.0   \n",
       "18678            3.0        2.0     3623.0     0.19     2015.0         574.0   \n",
       "18089            3.0        2.0     1361.0     0.50     1994.0         722.0   \n",
       "30395            4.0       75.0     1408.0     0.24     1972.0         113.0   \n",
       "\n",
       "            SoldPrice  ElementarySchoolRating  Foreclosed_True  State_CO  \\\n",
       "Unnamed: 0                                                                 \n",
       "1814         0.750000                     8.0                0         0   \n",
       "18678        0.420000                     3.0                0         1   \n",
       "18089        0.098529                     6.0                0         1   \n",
       "30395        0.205000                     8.0                0         1   \n",
       "\n",
       "            State_NV  \n",
       "Unnamed: 0            \n",
       "1814               0  \n",
       "18678              0  \n",
       "18089              0  \n",
       "30395              0  "
      ]
     },
     "execution_count": 36,
     "metadata": {},
     "output_type": "execute_result"
    }
   ],
   "source": [
    "df = pd.read_csv(\"cleanRealEstate.csv\",sep='\\t')\n",
    "df=df.set_index(\"Unnamed: 0\")\n",
    "df = df.drop([\"City\",\"Zipcode\"],axis=1)\n",
    "df.sample(4)"
   ]
  },
  {
   "cell_type": "code",
   "execution_count": 38,
   "metadata": {},
   "outputs": [
    {
     "name": "stdout",
     "output_type": "stream",
     "text": [
      "0.6791089507716555\n"
     ]
    }
   ],
   "source": [
    "y = df.SoldPrice\n",
    "X = df.drop([\"SoldPrice\"],axis=1)\n",
    "X_train, X_test, y_train, y_test = train_test_split(X, y, test_size=0.33, random_state=42)\n",
    "regr = rfr(max_depth=6,n_estimators=500)\n",
    "regr.fit(X_train,y_train)\n",
    "print(regr.score(X_test,y_test))"
   ]
  },
  {
   "cell_type": "markdown",
   "metadata": {},
   "source": [
    "We could get a better score by tuning hyperparameters via a grid search"
   ]
  }
 ],
 "metadata": {
  "kernelspec": {
   "display_name": "Python 3",
   "language": "python",
   "name": "python3"
  },
  "language_info": {
   "codemirror_mode": {
    "name": "ipython",
    "version": 3
   },
   "file_extension": ".py",
   "mimetype": "text/x-python",
   "name": "python",
   "nbconvert_exporter": "python",
   "pygments_lexer": "ipython3",
   "version": "3.7.1"
  }
 },
 "nbformat": 4,
 "nbformat_minor": 2
}
