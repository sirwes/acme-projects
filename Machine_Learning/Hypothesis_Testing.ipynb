{
 "cells": [
  {
   "cell_type": "code",
   "execution_count": 5,
   "metadata": {},
   "outputs": [],
   "source": [
    "import numpy as np\n",
    "from scipy import stats as st\n",
    "from random import shuffle"
   ]
  },
  {
   "cell_type": "code",
   "execution_count": 49,
   "metadata": {},
   "outputs": [
    {
     "name": "stdout",
     "output_type": "stream",
     "text": [
      "p_value: 1.7848711894915704e-05\n",
      "Confidence interval: (0.013741861224727436, 0.03685813877527254)\n"
     ]
    }
   ],
   "source": [
    "#initialize inputs\n",
    "twain = [.25,.262,.217,.24,.23,.229,.235,.217]\n",
    "snodgrass = [.209,.205,.196,.21,.202,.207,.224,.223,.22,.201]\n",
    "#get the mean of each list\n",
    "tmu = np.mean(twain)\n",
    "smu=np.mean(snodgrass)\n",
    "#get delta\n",
    "delta = tmu - smu\n",
    "#compute the variance of each list\n",
    "vTwain = np.sum((twain - tmu)**2) / len(twain)\n",
    "vSnod = np.sum((snodgrass - smu)**2) / len(snodgrass)\n",
    "#compute standard error\n",
    "se = np.sqrt(vTwain/len(twain) + vSnod/len(snodgrass))\n",
    "#compute Wald thingy\n",
    "W = delta/se\n",
    "#compute the p_value and print results\n",
    "p_value = 2*st.norm.cdf(-abs(W))\n",
    "print(\"p_value:\",p_value)\n",
    "#compute confidence interval & print results\n",
    "z=st.norm.ppf(.975)\n",
    "C=(delta-se*z,delta+se*z)\n",
    "print(\"Confidence interval:\",C)"
   ]
  },
  {
   "cell_type": "markdown",
   "metadata": {},
   "source": [
    "We reject the null hypothesis."
   ]
  },
  {
   "cell_type": "code",
   "execution_count": 50,
   "metadata": {},
   "outputs": [
    {
     "name": "stdout",
     "output_type": "stream",
     "text": [
      "p_value: 0.00054\n"
     ]
    }
   ],
   "source": [
    "#Stack the 2 lists\n",
    "stacked = twain + snodgrass\n",
    "numReject = 0\n",
    "numTrials = 100000\n",
    "#loop through a bunch of permutations of this stacked list to approximate \n",
    "#the permutation method. (since 18! is too much to compute)\n",
    "for i in range(numTrials):\n",
    "    shuffle(stacked)\n",
    "    T = np.abs(np.mean(stacked[:8]) - np.mean(stacked[8:]))\n",
    "    if T > delta:\n",
    "        numReject +=1\n",
    "        \n",
    "#compute p_value & print results        \n",
    "p_value = numReject / numTrials\n",
    "print(\"p_value:\",p_value)"
   ]
  },
  {
   "cell_type": "markdown",
   "metadata": {},
   "source": [
    "We reject the null hypothesis"
   ]
  },
  {
   "cell_type": "code",
   "execution_count": 45,
   "metadata": {},
   "outputs": [
    {
     "name": "stdout",
     "output_type": "stream",
     "text": [
      "[1]\n"
     ]
    }
   ],
   "source": [
    "#initialize inputs\n",
    "p_hats = [45/80,26/75,52/85,35/67,37/85]\n",
    "patients = [80,75,85,67,85]\n",
    "p0 = p_hats[0]\n",
    "#get the z for 95% confidence\n",
    "z = st.norm.ppf(.975)\n",
    "rejects = []\n",
    "p_vals = []\n",
    "#loop through the p_hats testing it with the Wald test & print \n",
    "#which drugs we will reject the null hypothesis for\n",
    "for i in range(1,5):\n",
    "    p_hat = p_hats[i]\n",
    "    delta = p_hat - p0\n",
    "    se = np.sqrt(p_hat*(1-p_hat)/patients[i] + p0*(1-p0)/80)\n",
    "    W = delta / se\n",
    "    p_vals.append(2*st.norm.cdf(-abs(W)))\n",
    "    if np.abs(W) > z:\n",
    "        rejects.append(i)\n",
    "print(rejects)"
   ]
  },
  {
   "cell_type": "markdown",
   "metadata": {},
   "source": [
    "We accept the null hypothesis for all except the drug Chlorpromazine"
   ]
  },
  {
   "cell_type": "code",
   "execution_count": 47,
   "metadata": {},
   "outputs": [
    {
     "name": "stdout",
     "output_type": "stream",
     "text": [
      "[1]\n"
     ]
    }
   ],
   "source": [
    "#Bonferroni method\n",
    "a = 0.05 / 4\n",
    "z = st.norm.ppf(1-a/2)\n",
    "rejects = []\n",
    "#same thing as a, but for the bonferroni method\n",
    "for i in range(1,5):\n",
    "    p_hat = p_hats[i]\n",
    "    delta = p_hat - p0\n",
    "    se = np.sqrt(p_hat*(1-p_hat)/patients[i] + p0*(1-p0)/80)\n",
    "    W = delta / se\n",
    "    if np.abs(W) > z:\n",
    "        rejects.append(i)\n",
    "print(rejects)"
   ]
  },
  {
   "cell_type": "markdown",
   "metadata": {},
   "source": [
    "We accept the null hypothesis for all except the drug Chlorpromazine"
   ]
  },
  {
   "cell_type": "code",
   "execution_count": 51,
   "metadata": {},
   "outputs": [
    {
     "name": "stdout",
     "output_type": "stream",
     "text": [
      "[ True False False False]\n"
     ]
    }
   ],
   "source": [
    "#FDR Method\n",
    "Cm,m = 1,4\n",
    "a = 0.05\n",
    "l = [i*a/(Cm*m) for i in range(1,5)]\n",
    "spval = np.sort(p_vals)\n",
    "#get the largest pvalue where the sorted list is less than l\n",
    "T = np.max(spval[spval < np.array(l)])\n",
    "#reject null hypothesis if p_value is <= T\n",
    "print(p_vals <= T)"
   ]
  },
  {
   "cell_type": "markdown",
   "metadata": {},
   "source": [
    "We accept the null hypothesis for all except the drug Chlorpromazine"
   ]
  }
 ],
 "metadata": {
  "kernelspec": {
   "display_name": "Python 3",
   "language": "python",
   "name": "python3"
  },
  "language_info": {
   "codemirror_mode": {
    "name": "ipython",
    "version": 3
   },
   "file_extension": ".py",
   "mimetype": "text/x-python",
   "name": "python",
   "nbconvert_exporter": "python",
   "pygments_lexer": "ipython3",
   "version": "3.7.1"
  }
 },
 "nbformat": 4,
 "nbformat_minor": 2
}
