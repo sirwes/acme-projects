{
 "cells": [
  {
   "cell_type": "code",
   "execution_count": 8,
   "metadata": {},
   "outputs": [],
   "source": [
    "import numpy as np\n",
    "from scipy import optimize"
   ]
  },
  {
   "cell_type": "markdown",
   "metadata": {},
   "source": [
    "# Gaussian Mixture Modeling\n",
    "\n",
    "Rough implementation of GMM"
   ]
  },
  {
   "cell_type": "code",
   "execution_count": 7,
   "metadata": {},
   "outputs": [],
   "source": [
    "class GMM:\n",
    "    def __init__(self,K,weights,means,covs):\n",
    "        self.K = K\n",
    "        self.w = weights\n",
    "        self.mu = means\n",
    "        self.cov = covs\n",
    "        self.W = sum(weights)\n",
    "        return self\n",
    "    \n",
    "    def draw(self,n):\n",
    "        result = []\n",
    "        for i in range(n):\n",
    "            fj = np.random.normal(self.mu,self.cov)*self.w\n",
    "            result.append(np.sum(fj)/self.W)\n",
    "        return result"
   ]
  },
  {
   "cell_type": "markdown",
   "metadata": {},
   "source": [
    "# Expectation Maximization\n",
    "\n",
    "Rough implementation of EM"
   ]
  },
  {
   "cell_type": "code",
   "execution_count": null,
   "metadata": {},
   "outputs": [],
   "source": [
    "class EM:\n",
    "    def __init__(self,samples,K,w0=None,mu0=None,sig0=None)\n",
    "        self.n = samples.shape[0]\n",
    "        self.K = K\n",
    "        if mu0 is None:\n",
    "            mu0 = np.array([np.mean(i) for i in samples])\n",
    "        if w0 is None:\n",
    "            w0 = np.ones(K)\n",
    "        if sig0 is None:\n",
    "            sig0 = np.ones((self.n,self.n,K))\n",
    "        self.samples = samples\n",
    "        self.weights = wk\n",
    "        self.cov = sig\n",
    "        self.mu = mu\n",
    "        return self\n",
    "    \n",
    "    def Converge(self):\n",
    "        for i in range(self.n):\n",
    "            yi = self.samples[i]\n",
    "            qi = "
   ]
  }
 ],
 "metadata": {
  "kernelspec": {
   "display_name": "Python 3",
   "language": "python",
   "name": "python3"
  },
  "language_info": {
   "codemirror_mode": {
    "name": "ipython",
    "version": 3
   },
   "file_extension": ".py",
   "mimetype": "text/x-python",
   "name": "python",
   "nbconvert_exporter": "python",
   "pygments_lexer": "ipython3",
   "version": "3.7.1"
  }
 },
 "nbformat": 4,
 "nbformat_minor": 2
}
