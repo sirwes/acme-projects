{
 "cells": [
  {
   "cell_type": "code",
   "execution_count": 6,
   "metadata": {},
   "outputs": [],
   "source": [
    "from sklearn import svm\n",
    "from sklearn import datasets\n",
    "import numpy as np\n",
    "from sklearn.model_selection import GridSearchCV\n",
    "from sklearn.pipeline import Pipeline"
   ]
  },
  {
   "cell_type": "markdown",
   "metadata": {},
   "source": [
    "# Support Vector Machines\n",
    "\n",
    "We will try out the support vector machine algorithm on various datasets\n",
    "\n",
    "## Iris Dataset"
   ]
  },
  {
   "cell_type": "code",
   "execution_count": 10,
   "metadata": {},
   "outputs": [
    {
     "name": "stdout",
     "output_type": "stream",
     "text": [
      "Fitting 3 folds for each of 27 candidates, totalling 81 fits\n",
      "{'svm__C': 1.0, 'svm__degree': 0.0, 'svm__gamma': 0.0} 0.3333333333333333\n"
     ]
    },
    {
     "name": "stderr",
     "output_type": "stream",
     "text": [
      "[Parallel(n_jobs=-1)]: Done  81 out of  81 | elapsed:    0.1s finished\n"
     ]
    }
   ],
   "source": [
    "iris = datasets.load_iris()\n",
    "X = iris.data[:, :2]\n",
    "y = iris.target\n",
    "\n",
    "pipe = Pipeline([('svm',svm.SVR())])\n",
    "\n",
    "param_grid = [{'svm__C':np.linspace(1,3,3),\n",
    "               'svm__gamma':np.linspace(0,1,3),\n",
    "               'svm__degree':np.linspace(0,1,3)}]\n",
    "gs = GridSearchCV(pipe, \n",
    "                  param_grid, \n",
    "                  cv=3,\n",
    "                  verbose=1,\n",
    "                  n_jobs=-1)\n",
    "gs.fit(X,y)\n",
    "print(gs.best_params_,gs.best_score_)"
   ]
  },
  {
   "cell_type": "markdown",
   "metadata": {},
   "source": [
    "## Breast Cancer Dataset"
   ]
  },
  {
   "cell_type": "code",
   "execution_count": 11,
   "metadata": {},
   "outputs": [
    {
     "name": "stdout",
     "output_type": "stream",
     "text": [
      "Fitting 3 folds for each of 27 candidates, totalling 81 fits\n",
      "{'svm__C': 1.0, 'svm__degree': 0.0, 'svm__gamma': 0.5} 0.42838664648010444\n"
     ]
    },
    {
     "name": "stderr",
     "output_type": "stream",
     "text": [
      "[Parallel(n_jobs=-1)]: Done  81 out of  81 | elapsed:    0.4s finished\n"
     ]
    }
   ],
   "source": [
    "iris = datasets.load_breast_cancer()\n",
    "X = iris.data[:, :2]\n",
    "y = iris.target\n",
    "\n",
    "pipe = Pipeline([('svm',svm.SVR())])\n",
    "\n",
    "param_grid = [{'svm__C':np.linspace(1,3,3),\n",
    "               'svm__gamma':np.linspace(0,1,3),\n",
    "               'svm__degree':np.linspace(0,1,3)}]\n",
    "gs = GridSearchCV(pipe, \n",
    "                  param_grid, \n",
    "                  cv=3,\n",
    "                  verbose=1,\n",
    "                  n_jobs=-1)\n",
    "gs.fit(X,y)\n",
    "print(gs.best_params_,gs.best_score_)"
   ]
  }
 ],
 "metadata": {
  "kernelspec": {
   "display_name": "Python 3",
   "language": "python",
   "name": "python3"
  },
  "language_info": {
   "codemirror_mode": {
    "name": "ipython",
    "version": 3
   },
   "file_extension": ".py",
   "mimetype": "text/x-python",
   "name": "python",
   "nbconvert_exporter": "python",
   "pygments_lexer": "ipython3",
   "version": "3.7.1"
  }
 },
 "nbformat": 4,
 "nbformat_minor": 2
}
