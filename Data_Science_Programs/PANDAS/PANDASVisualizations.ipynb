{
 "cells": [
  {
   "cell_type": "code",
   "execution_count": 1,
   "metadata": {},
   "outputs": [],
   "source": [
    "import numpy as np\n",
    "import pandas as pd\n",
    "from matplotlib import pyplot as plt\n",
    "from pydataset import data\n",
    "\n",
    "%matplotlib inline"
   ]
  },
  {
   "cell_type": "code",
   "execution_count": 2,
   "metadata": {},
   "outputs": [
    {
     "data": {
      "text/html": [
       "<div>\n",
       "<style scoped>\n",
       "    .dataframe tbody tr th:only-of-type {\n",
       "        vertical-align: middle;\n",
       "    }\n",
       "\n",
       "    .dataframe tbody tr th {\n",
       "        vertical-align: top;\n",
       "    }\n",
       "\n",
       "    .dataframe thead th {\n",
       "        text-align: right;\n",
       "    }\n",
       "</style>\n",
       "<table border=\"1\" class=\"dataframe\">\n",
       "  <thead>\n",
       "    <tr style=\"text-align: right;\">\n",
       "      <th></th>\n",
       "      <th>ST_CASE</th>\n",
       "      <th>VEH_NO</th>\n",
       "      <th>AGE</th>\n",
       "      <th>DRINKING</th>\n",
       "      <th>SPEEDREL</th>\n",
       "      <th>YEAR</th>\n",
       "    </tr>\n",
       "  </thead>\n",
       "  <tbody>\n",
       "    <tr>\n",
       "      <th>count</th>\n",
       "      <td>219616.000000</td>\n",
       "      <td>219616.000000</td>\n",
       "      <td>219616.000000</td>\n",
       "      <td>219616.000000</td>\n",
       "      <td>219616.000000</td>\n",
       "      <td>219616.000000</td>\n",
       "    </tr>\n",
       "    <tr>\n",
       "      <th>mean</th>\n",
       "      <td>280662.297861</td>\n",
       "      <td>1.445204</td>\n",
       "      <td>42.501657</td>\n",
       "      <td>2.736531</td>\n",
       "      <td>0.668098</td>\n",
       "      <td>2012.003115</td>\n",
       "    </tr>\n",
       "    <tr>\n",
       "      <th>std</th>\n",
       "      <td>162109.000719</td>\n",
       "      <td>1.346863</td>\n",
       "      <td>18.171806</td>\n",
       "      <td>3.806327</td>\n",
       "      <td>1.747885</td>\n",
       "      <td>1.411545</td>\n",
       "    </tr>\n",
       "    <tr>\n",
       "      <th>min</th>\n",
       "      <td>10001.000000</td>\n",
       "      <td>1.000000</td>\n",
       "      <td>3.000000</td>\n",
       "      <td>0.000000</td>\n",
       "      <td>0.000000</td>\n",
       "      <td>2010.000000</td>\n",
       "    </tr>\n",
       "    <tr>\n",
       "      <th>25%</th>\n",
       "      <td>122170.000000</td>\n",
       "      <td>1.000000</td>\n",
       "      <td>27.000000</td>\n",
       "      <td>0.000000</td>\n",
       "      <td>0.000000</td>\n",
       "      <td>2011.000000</td>\n",
       "    </tr>\n",
       "    <tr>\n",
       "      <th>50%</th>\n",
       "      <td>280264.500000</td>\n",
       "      <td>1.000000</td>\n",
       "      <td>40.000000</td>\n",
       "      <td>0.000000</td>\n",
       "      <td>0.000000</td>\n",
       "      <td>2012.000000</td>\n",
       "    </tr>\n",
       "    <tr>\n",
       "      <th>75%</th>\n",
       "      <td>420759.250000</td>\n",
       "      <td>2.000000</td>\n",
       "      <td>55.000000</td>\n",
       "      <td>8.000000</td>\n",
       "      <td>0.000000</td>\n",
       "      <td>2013.000000</td>\n",
       "    </tr>\n",
       "    <tr>\n",
       "      <th>max</th>\n",
       "      <td>560139.000000</td>\n",
       "      <td>90.000000</td>\n",
       "      <td>102.000000</td>\n",
       "      <td>9.000000</td>\n",
       "      <td>9.000000</td>\n",
       "      <td>2014.000000</td>\n",
       "    </tr>\n",
       "  </tbody>\n",
       "</table>\n",
       "</div>"
      ],
      "text/plain": [
       "             ST_CASE         VEH_NO            AGE       DRINKING  \\\n",
       "count  219616.000000  219616.000000  219616.000000  219616.000000   \n",
       "mean   280662.297861       1.445204      42.501657       2.736531   \n",
       "std    162109.000719       1.346863      18.171806       3.806327   \n",
       "min     10001.000000       1.000000       3.000000       0.000000   \n",
       "25%    122170.000000       1.000000      27.000000       0.000000   \n",
       "50%    280264.500000       1.000000      40.000000       0.000000   \n",
       "75%    420759.250000       2.000000      55.000000       8.000000   \n",
       "max    560139.000000      90.000000     102.000000       9.000000   \n",
       "\n",
       "            SPEEDREL           YEAR  \n",
       "count  219616.000000  219616.000000  \n",
       "mean        0.668098    2012.003115  \n",
       "std         1.747885       1.411545  \n",
       "min         0.000000    2010.000000  \n",
       "25%         0.000000    2011.000000  \n",
       "50%         0.000000    2012.000000  \n",
       "75%         0.000000    2013.000000  \n",
       "max         9.000000    2014.000000  "
      ]
     },
     "execution_count": 2,
     "metadata": {},
     "output_type": "execute_result"
    }
   ],
   "source": [
    "accidentData = pd.read_pickle(\"final_accidents2.pickle\").dropna(how='any')\n",
    "driverData = pd.read_pickle(\"final_drivers.pickle\").dropna(how='any')\n",
    "#print(driverData)\n",
    "driverData = driverData[driverData.AGE < 200]\n",
    "driverData.describe()"
   ]
  },
  {
   "cell_type": "code",
   "execution_count": 42,
   "metadata": {},
   "outputs": [
    {
     "data": {
      "text/html": [
       "<div>\n",
       "<style scoped>\n",
       "    .dataframe tbody tr th:only-of-type {\n",
       "        vertical-align: middle;\n",
       "    }\n",
       "\n",
       "    .dataframe tbody tr th {\n",
       "        vertical-align: top;\n",
       "    }\n",
       "\n",
       "    .dataframe thead th {\n",
       "        text-align: right;\n",
       "    }\n",
       "</style>\n",
       "<table border=\"1\" class=\"dataframe\">\n",
       "  <thead>\n",
       "    <tr style=\"text-align: right;\">\n",
       "      <th></th>\n",
       "      <th>ST_CASE</th>\n",
       "      <th>STATE</th>\n",
       "      <th>LATITUDE</th>\n",
       "      <th>LONGITUD</th>\n",
       "      <th>HOUR</th>\n",
       "      <th>DAY</th>\n",
       "      <th>MONTH</th>\n",
       "      <th>YEAR</th>\n",
       "      <th>DRUNK_DR</th>\n",
       "      <th>WEATHER</th>\n",
       "      <th>SP</th>\n",
       "      <th>FATALS</th>\n",
       "    </tr>\n",
       "  </thead>\n",
       "  <tbody>\n",
       "    <tr>\n",
       "      <th>count</th>\n",
       "      <td>148206.000000</td>\n",
       "      <td>148206.000000</td>\n",
       "      <td>148206.000000</td>\n",
       "      <td>148206.000000</td>\n",
       "      <td>148206.000000</td>\n",
       "      <td>148206.000000</td>\n",
       "      <td>148206.000000</td>\n",
       "      <td>148206.000000</td>\n",
       "      <td>148206.000000</td>\n",
       "      <td>148206.000000</td>\n",
       "      <td>148206.000000</td>\n",
       "      <td>148206.000000</td>\n",
       "    </tr>\n",
       "    <tr>\n",
       "      <th>mean</th>\n",
       "      <td>280064.232946</td>\n",
       "      <td>27.943963</td>\n",
       "      <td>36.704845</td>\n",
       "      <td>-91.815633</td>\n",
       "      <td>12.638557</td>\n",
       "      <td>15.663320</td>\n",
       "      <td>6.753856</td>\n",
       "      <td>2012.000432</td>\n",
       "      <td>0.313483</td>\n",
       "      <td>2.815534</td>\n",
       "      <td>0.295757</td>\n",
       "      <td>1.089301</td>\n",
       "    </tr>\n",
       "    <tr>\n",
       "      <th>std</th>\n",
       "      <td>162307.103941</td>\n",
       "      <td>16.234001</td>\n",
       "      <td>5.165450</td>\n",
       "      <td>14.717386</td>\n",
       "      <td>6.929258</td>\n",
       "      <td>8.847314</td>\n",
       "      <td>3.347173</td>\n",
       "      <td>1.411410</td>\n",
       "      <td>0.484263</td>\n",
       "      <td>5.699032</td>\n",
       "      <td>0.456384</td>\n",
       "      <td>0.360859</td>\n",
       "    </tr>\n",
       "    <tr>\n",
       "      <th>min</th>\n",
       "      <td>10001.000000</td>\n",
       "      <td>0.000000</td>\n",
       "      <td>18.960467</td>\n",
       "      <td>-165.407103</td>\n",
       "      <td>0.000000</td>\n",
       "      <td>1.000000</td>\n",
       "      <td>1.000000</td>\n",
       "      <td>2010.000000</td>\n",
       "      <td>0.000000</td>\n",
       "      <td>1.000000</td>\n",
       "      <td>0.000000</td>\n",
       "      <td>1.000000</td>\n",
       "    </tr>\n",
       "    <tr>\n",
       "      <th>25%</th>\n",
       "      <td>122094.000000</td>\n",
       "      <td>12.000000</td>\n",
       "      <td>33.237144</td>\n",
       "      <td>-97.673128</td>\n",
       "      <td>7.000000</td>\n",
       "      <td>8.000000</td>\n",
       "      <td>4.000000</td>\n",
       "      <td>2011.000000</td>\n",
       "      <td>0.000000</td>\n",
       "      <td>1.000000</td>\n",
       "      <td>0.000000</td>\n",
       "      <td>1.000000</td>\n",
       "    </tr>\n",
       "    <tr>\n",
       "      <th>50%</th>\n",
       "      <td>280228.000000</td>\n",
       "      <td>28.000000</td>\n",
       "      <td>36.578921</td>\n",
       "      <td>-87.688676</td>\n",
       "      <td>14.000000</td>\n",
       "      <td>16.000000</td>\n",
       "      <td>7.000000</td>\n",
       "      <td>2012.000000</td>\n",
       "      <td>0.000000</td>\n",
       "      <td>1.000000</td>\n",
       "      <td>0.000000</td>\n",
       "      <td>1.000000</td>\n",
       "    </tr>\n",
       "    <tr>\n",
       "      <th>75%</th>\n",
       "      <td>420772.000000</td>\n",
       "      <td>42.000000</td>\n",
       "      <td>40.653129</td>\n",
       "      <td>-81.306327</td>\n",
       "      <td>18.000000</td>\n",
       "      <td>23.000000</td>\n",
       "      <td>10.000000</td>\n",
       "      <td>2013.000000</td>\n",
       "      <td>1.000000</td>\n",
       "      <td>2.000000</td>\n",
       "      <td>1.000000</td>\n",
       "      <td>1.000000</td>\n",
       "    </tr>\n",
       "    <tr>\n",
       "      <th>max</th>\n",
       "      <td>560137.000000</td>\n",
       "      <td>56.000000</td>\n",
       "      <td>68.433764</td>\n",
       "      <td>-66.993169</td>\n",
       "      <td>23.000000</td>\n",
       "      <td>31.000000</td>\n",
       "      <td>12.000000</td>\n",
       "      <td>2014.000000</td>\n",
       "      <td>4.000000</td>\n",
       "      <td>98.000000</td>\n",
       "      <td>1.000000</td>\n",
       "      <td>15.000000</td>\n",
       "    </tr>\n",
       "  </tbody>\n",
       "</table>\n",
       "</div>"
      ],
      "text/plain": [
       "             ST_CASE          STATE       LATITUDE       LONGITUD  \\\n",
       "count  148206.000000  148206.000000  148206.000000  148206.000000   \n",
       "mean   280064.232946      27.943963      36.704845     -91.815633   \n",
       "std    162307.103941      16.234001       5.165450      14.717386   \n",
       "min     10001.000000       0.000000      18.960467    -165.407103   \n",
       "25%    122094.000000      12.000000      33.237144     -97.673128   \n",
       "50%    280228.000000      28.000000      36.578921     -87.688676   \n",
       "75%    420772.000000      42.000000      40.653129     -81.306327   \n",
       "max    560137.000000      56.000000      68.433764     -66.993169   \n",
       "\n",
       "                HOUR            DAY          MONTH           YEAR  \\\n",
       "count  148206.000000  148206.000000  148206.000000  148206.000000   \n",
       "mean       12.638557      15.663320       6.753856    2012.000432   \n",
       "std         6.929258       8.847314       3.347173       1.411410   \n",
       "min         0.000000       1.000000       1.000000    2010.000000   \n",
       "25%         7.000000       8.000000       4.000000    2011.000000   \n",
       "50%        14.000000      16.000000       7.000000    2012.000000   \n",
       "75%        18.000000      23.000000      10.000000    2013.000000   \n",
       "max        23.000000      31.000000      12.000000    2014.000000   \n",
       "\n",
       "            DRUNK_DR        WEATHER             SP         FATALS  \n",
       "count  148206.000000  148206.000000  148206.000000  148206.000000  \n",
       "mean        0.313483       2.815534       0.295757       1.089301  \n",
       "std         0.484263       5.699032       0.456384       0.360859  \n",
       "min         0.000000       1.000000       0.000000       1.000000  \n",
       "25%         0.000000       1.000000       0.000000       1.000000  \n",
       "50%         0.000000       1.000000       0.000000       1.000000  \n",
       "75%         1.000000       2.000000       1.000000       1.000000  \n",
       "max         4.000000      98.000000       1.000000      15.000000  "
      ]
     },
     "execution_count": 42,
     "metadata": {},
     "output_type": "execute_result"
    }
   ],
   "source": [
    "accidentData.describe()"
   ]
  },
  {
   "cell_type": "code",
   "execution_count": 7,
   "metadata": {
    "scrolled": true
   },
   "outputs": [
    {
     "data": {
      "text/plain": [
       "<matplotlib.axes._subplots.AxesSubplot at 0x238a65eb2b0>"
      ]
     },
     "execution_count": 7,
     "metadata": {},
     "output_type": "execute_result"
    },
    {
     "data": {
      "image/png": "[encoded data removed]",
      "text/plain": [
       "<matplotlib.figure.Figure at 0x238a65a7748>"
      ]
     },
     "metadata": {},
     "output_type": "display_data"
    }
   ],
   "source": [
    "driverData.plot(kind='hist',y=\"YEAR\",bins=4,rot=30,title='Accident data per year')"
   ]
  },
  {
   "cell_type": "code",
   "execution_count": 5,
   "metadata": {},
   "outputs": [
    {
     "data": {
      "text/plain": [
       "<matplotlib.axes._subplots.AxesSubplot at 0x238a60c1278>"
      ]
     },
     "execution_count": 5,
     "metadata": {},
     "output_type": "execute_result"
    },
    {
     "data": {
      "image/png": "[encoded data removed]",
      "text/plain": [
       "<matplotlib.figure.Figure at 0x238a67d1390>"
      ]
     },
     "metadata": {},
     "output_type": "display_data"
    }
   ],
   "source": [
    "accidentData.plot(kind='box',y='YEAR',x=\"FATALS\",title='Fatality per year',)"
   ]
  },
  {
   "cell_type": "code",
   "execution_count": 295,
   "metadata": {},
   "outputs": [
    {
     "name": "stdout",
     "output_type": "stream",
     "text": [
      "Distribution of accidents in the USA\n"
     ]
    },
    {
     "data": {
      "image/png": "[encoded data removed]",
      "text/plain": [
       "<matplotlib.figure.Figure at 0x27ab2f1a5c0>"
      ]
     },
     "metadata": {},
     "output_type": "display_data"
    }
   ],
   "source": [
    "pd.plotting.scatter_matrix(accidentData[[\"LATITUDE\",'LONGITUD']])\n",
    "print(\"Distribution of accidents in the USA\")"
   ]
  },
  {
   "cell_type": "code",
   "execution_count": null,
   "metadata": {},
   "outputs": [],
   "source": [
    "accidentData.plot(kind='box',x='FATALS',y='WEATHER',title='Type of weather per number of fatalities')"
   ]
  },
  {
   "cell_type": "code",
   "execution_count": 47,
   "metadata": {},
   "outputs": [
    {
     "data": {
      "text/plain": [
       "Text(0.5,0,'Speeding truth value')"
      ]
     },
     "execution_count": 47,
     "metadata": {},
     "output_type": "execute_result"
    },
    {
     "data": {
      "image/png": "[encoded data removed]",
      "text/plain": [
       "<matplotlib.figure.Figure at 0x27a9b9b5198>"
      ]
     },
     "metadata": {},
     "output_type": "display_data"
    }
   ],
   "source": [
    "accidentData.plot(kind='hist',x='FATALS',y='SP',bins=3,stacked=True,title='Number of Fatalities due to speeding').set_xlabel(xlabel='Speeding truth value')"
   ]
  },
  {
   "cell_type": "code",
   "execution_count": 48,
   "metadata": {},
   "outputs": [],
   "source": [
    "carData = pd.merge(accidentData,driverData,on=\"ST_CASE\")"
   ]
  },
  {
   "cell_type": "code",
   "execution_count": null,
   "metadata": {},
   "outputs": [],
   "source": [
    "carData.plot(kind='hexbin',x='FATALS',y='DRINKING',title='Drinking identifier per number of fatalities',gridsize=20)"
   ]
  },
  {
   "cell_type": "code",
   "execution_count": 64,
   "metadata": {},
   "outputs": [
    {
     "data": {
      "text/plain": [
       "<matplotlib.axes._subplots.AxesSubplot at 0x27a80582a20>"
      ]
     },
     "execution_count": 64,
     "metadata": {},
     "output_type": "execute_result"
    },
    {
     "data": {
      "image/png": "[encoded data removed]",
      "text/plain": [
       "<matplotlib.figure.Figure at 0x27a8057cb00>"
      ]
     },
     "metadata": {},
     "output_type": "display_data"
    }
   ],
   "source": [
    "accidentData.plot(kind='Hexbin',y=['LATITUDE'],x=['LONGITUD'],gridsize=40,title=\"Distribution of accidents in the USA\")"
   ]
  },
  {
   "cell_type": "code",
   "execution_count": 70,
   "metadata": {
    "scrolled": true
   },
   "outputs": [
    {
     "data": {
      "text/plain": [
       "<matplotlib.axes._subplots.AxesSubplot at 0x27a833e7f60>"
      ]
     },
     "execution_count": 70,
     "metadata": {},
     "output_type": "execute_result"
    },
    {
     "data": {
      "image/png": "[encoded data removed]",
      "text/plain": [
       "<matplotlib.figure.Figure at 0x27a8284df28>"
      ]
     },
     "metadata": {},
     "output_type": "display_data"
    }
   ],
   "source": [
    "driverData.plot(kind='box',y='AGE',title='Distribution of age in accidents')"
   ]
  },
  {
   "cell_type": "code",
   "execution_count": 62,
   "metadata": {},
   "outputs": [
    {
     "data": {
      "text/plain": [
       "<matplotlib.axes._subplots.AxesSubplot at 0x27a8053a8d0>"
      ]
     },
     "execution_count": 62,
     "metadata": {},
     "output_type": "execute_result"
    },
    {
     "data": {
      "image/png": "[encoded data removed]",
      "text/plain": [
       "<matplotlib.figure.Figure at 0x27a80539c18>"
      ]
     },
     "metadata": {},
     "output_type": "display_data"
    }
   ],
   "source": [
    "accidentData.plot(kind='box',y='HOUR',x='FATALS',title=\"Fatalities by the hour\")"
   ]
  },
  {
   "cell_type": "code",
   "execution_count": 107,
   "metadata": {},
   "outputs": [],
   "source": [
    "accDeaths = data(\"road\")"
   ]
  },
  {
   "cell_type": "code",
   "execution_count": 108,
   "metadata": {},
   "outputs": [
    {
     "data": {
      "text/html": [
       "<div>\n",
       "<style scoped>\n",
       "    .dataframe tbody tr th:only-of-type {\n",
       "        vertical-align: middle;\n",
       "    }\n",
       "\n",
       "    .dataframe tbody tr th {\n",
       "        vertical-align: top;\n",
       "    }\n",
       "\n",
       "    .dataframe thead th {\n",
       "        text-align: right;\n",
       "    }\n",
       "</style>\n",
       "<table border=\"1\" class=\"dataframe\">\n",
       "  <thead>\n",
       "    <tr style=\"text-align: right;\">\n",
       "      <th></th>\n",
       "      <th>deaths</th>\n",
       "      <th>drivers</th>\n",
       "      <th>popden</th>\n",
       "      <th>rural</th>\n",
       "      <th>temp</th>\n",
       "      <th>fuel</th>\n",
       "    </tr>\n",
       "  </thead>\n",
       "  <tbody>\n",
       "    <tr>\n",
       "      <th>Alabama</th>\n",
       "      <td>968</td>\n",
       "      <td>158</td>\n",
       "      <td>64.0</td>\n",
       "      <td>66.0</td>\n",
       "      <td>62</td>\n",
       "      <td>119.0</td>\n",
       "    </tr>\n",
       "    <tr>\n",
       "      <th>Alaska</th>\n",
       "      <td>43</td>\n",
       "      <td>11</td>\n",
       "      <td>0.4</td>\n",
       "      <td>5.9</td>\n",
       "      <td>30</td>\n",
       "      <td>6.2</td>\n",
       "    </tr>\n",
       "    <tr>\n",
       "      <th>Arizona</th>\n",
       "      <td>588</td>\n",
       "      <td>91</td>\n",
       "      <td>12.0</td>\n",
       "      <td>33.0</td>\n",
       "      <td>64</td>\n",
       "      <td>65.0</td>\n",
       "    </tr>\n",
       "    <tr>\n",
       "      <th>Arkanas</th>\n",
       "      <td>640</td>\n",
       "      <td>92</td>\n",
       "      <td>34.0</td>\n",
       "      <td>73.0</td>\n",
       "      <td>51</td>\n",
       "      <td>74.0</td>\n",
       "    </tr>\n",
       "    <tr>\n",
       "      <th>Calif</th>\n",
       "      <td>4743</td>\n",
       "      <td>952</td>\n",
       "      <td>100.0</td>\n",
       "      <td>118.0</td>\n",
       "      <td>65</td>\n",
       "      <td>105.0</td>\n",
       "    </tr>\n",
       "    <tr>\n",
       "      <th>Colo</th>\n",
       "      <td>566</td>\n",
       "      <td>109</td>\n",
       "      <td>17.0</td>\n",
       "      <td>73.0</td>\n",
       "      <td>42</td>\n",
       "      <td>78.0</td>\n",
       "    </tr>\n",
       "    <tr>\n",
       "      <th>Conn</th>\n",
       "      <td>325</td>\n",
       "      <td>167</td>\n",
       "      <td>518.0</td>\n",
       "      <td>5.1</td>\n",
       "      <td>37</td>\n",
       "      <td>95.0</td>\n",
       "    </tr>\n",
       "    <tr>\n",
       "      <th>Dela</th>\n",
       "      <td>118</td>\n",
       "      <td>30</td>\n",
       "      <td>226.0</td>\n",
       "      <td>3.4</td>\n",
       "      <td>41</td>\n",
       "      <td>20.0</td>\n",
       "    </tr>\n",
       "    <tr>\n",
       "      <th>DC</th>\n",
       "      <td>115</td>\n",
       "      <td>35</td>\n",
       "      <td>12524.0</td>\n",
       "      <td>0.0</td>\n",
       "      <td>44</td>\n",
       "      <td>23.0</td>\n",
       "    </tr>\n",
       "    <tr>\n",
       "      <th>Florida</th>\n",
       "      <td>1545</td>\n",
       "      <td>298</td>\n",
       "      <td>91.0</td>\n",
       "      <td>57.0</td>\n",
       "      <td>67</td>\n",
       "      <td>216.0</td>\n",
       "    </tr>\n",
       "    <tr>\n",
       "      <th>Georgia</th>\n",
       "      <td>1302</td>\n",
       "      <td>203</td>\n",
       "      <td>68.0</td>\n",
       "      <td>83.0</td>\n",
       "      <td>54</td>\n",
       "      <td>162.0</td>\n",
       "    </tr>\n",
       "    <tr>\n",
       "      <th>Idaho</th>\n",
       "      <td>262</td>\n",
       "      <td>41</td>\n",
       "      <td>8.1</td>\n",
       "      <td>40.0</td>\n",
       "      <td>36</td>\n",
       "      <td>29.0</td>\n",
       "    </tr>\n",
       "    <tr>\n",
       "      <th>Ill</th>\n",
       "      <td>2207</td>\n",
       "      <td>544</td>\n",
       "      <td>180.0</td>\n",
       "      <td>102.0</td>\n",
       "      <td>33</td>\n",
       "      <td>350.0</td>\n",
       "    </tr>\n",
       "    <tr>\n",
       "      <th>Ind</th>\n",
       "      <td>1410</td>\n",
       "      <td>254</td>\n",
       "      <td>129.0</td>\n",
       "      <td>89.0</td>\n",
       "      <td>37</td>\n",
       "      <td>196.0</td>\n",
       "    </tr>\n",
       "    <tr>\n",
       "      <th>Iowa</th>\n",
       "      <td>833</td>\n",
       "      <td>150</td>\n",
       "      <td>49.0</td>\n",
       "      <td>100.0</td>\n",
       "      <td>30</td>\n",
       "      <td>109.0</td>\n",
       "    </tr>\n",
       "    <tr>\n",
       "      <th>Kansas</th>\n",
       "      <td>669</td>\n",
       "      <td>136</td>\n",
       "      <td>27.0</td>\n",
       "      <td>124.0</td>\n",
       "      <td>42</td>\n",
       "      <td>94.0</td>\n",
       "    </tr>\n",
       "    <tr>\n",
       "      <th>Kent</th>\n",
       "      <td>911</td>\n",
       "      <td>147</td>\n",
       "      <td>76.0</td>\n",
       "      <td>65.0</td>\n",
       "      <td>44</td>\n",
       "      <td>104.0</td>\n",
       "    </tr>\n",
       "    <tr>\n",
       "      <th>Louis</th>\n",
       "      <td>1037</td>\n",
       "      <td>146</td>\n",
       "      <td>72.0</td>\n",
       "      <td>40.0</td>\n",
       "      <td>65</td>\n",
       "      <td>109.0</td>\n",
       "    </tr>\n",
       "    <tr>\n",
       "      <th>Maine</th>\n",
       "      <td>1196</td>\n",
       "      <td>46</td>\n",
       "      <td>31.0</td>\n",
       "      <td>19.0</td>\n",
       "      <td>30</td>\n",
       "      <td>37.0</td>\n",
       "    </tr>\n",
       "    <tr>\n",
       "      <th>Maryl</th>\n",
       "      <td>616</td>\n",
       "      <td>157</td>\n",
       "      <td>314.0</td>\n",
       "      <td>29.0</td>\n",
       "      <td>44</td>\n",
       "      <td>113.0</td>\n",
       "    </tr>\n",
       "    <tr>\n",
       "      <th>Mass</th>\n",
       "      <td>766</td>\n",
       "      <td>255</td>\n",
       "      <td>655.0</td>\n",
       "      <td>17.0</td>\n",
       "      <td>37</td>\n",
       "      <td>166.0</td>\n",
       "    </tr>\n",
       "    <tr>\n",
       "      <th>Mich</th>\n",
       "      <td>2120</td>\n",
       "      <td>403</td>\n",
       "      <td>137.0</td>\n",
       "      <td>95.0</td>\n",
       "      <td>33</td>\n",
       "      <td>306.0</td>\n",
       "    </tr>\n",
       "    <tr>\n",
       "      <th>Minn</th>\n",
       "      <td>841</td>\n",
       "      <td>189</td>\n",
       "      <td>43.0</td>\n",
       "      <td>110.0</td>\n",
       "      <td>22</td>\n",
       "      <td>132.0</td>\n",
       "    </tr>\n",
       "    <tr>\n",
       "      <th>Miss</th>\n",
       "      <td>648</td>\n",
       "      <td>85</td>\n",
       "      <td>46.0</td>\n",
       "      <td>59.0</td>\n",
       "      <td>57</td>\n",
       "      <td>77.0</td>\n",
       "    </tr>\n",
       "    <tr>\n",
       "      <th>Mo</th>\n",
       "      <td>1289</td>\n",
       "      <td>234</td>\n",
       "      <td>63.0</td>\n",
       "      <td>100.0</td>\n",
       "      <td>40</td>\n",
       "      <td>180.0</td>\n",
       "    </tr>\n",
       "    <tr>\n",
       "      <th>Mont</th>\n",
       "      <td>259</td>\n",
       "      <td>38</td>\n",
       "      <td>4.6</td>\n",
       "      <td>72.0</td>\n",
       "      <td>29</td>\n",
       "      <td>31.0</td>\n",
       "    </tr>\n",
       "  </tbody>\n",
       "</table>\n",
       "</div>"
      ],
      "text/plain": [
       "         deaths  drivers   popden  rural  temp   fuel\n",
       "Alabama     968      158     64.0   66.0    62  119.0\n",
       "Alaska       43       11      0.4    5.9    30    6.2\n",
       "Arizona     588       91     12.0   33.0    64   65.0\n",
       "Arkanas     640       92     34.0   73.0    51   74.0\n",
       "Calif      4743      952    100.0  118.0    65  105.0\n",
       "Colo        566      109     17.0   73.0    42   78.0\n",
       "Conn        325      167    518.0    5.1    37   95.0\n",
       "Dela        118       30    226.0    3.4    41   20.0\n",
       "DC          115       35  12524.0    0.0    44   23.0\n",
       "Florida    1545      298     91.0   57.0    67  216.0\n",
       "Georgia    1302      203     68.0   83.0    54  162.0\n",
       "Idaho       262       41      8.1   40.0    36   29.0\n",
       "Ill        2207      544    180.0  102.0    33  350.0\n",
       "Ind        1410      254    129.0   89.0    37  196.0\n",
       "Iowa        833      150     49.0  100.0    30  109.0\n",
       "Kansas      669      136     27.0  124.0    42   94.0\n",
       "Kent        911      147     76.0   65.0    44  104.0\n",
       "Louis      1037      146     72.0   40.0    65  109.0\n",
       "Maine      1196       46     31.0   19.0    30   37.0\n",
       "Maryl       616      157    314.0   29.0    44  113.0\n",
       "Mass        766      255    655.0   17.0    37  166.0\n",
       "Mich       2120      403    137.0   95.0    33  306.0\n",
       "Minn        841      189     43.0  110.0    22  132.0\n",
       "Miss        648       85     46.0   59.0    57   77.0\n",
       "Mo         1289      234     63.0  100.0    40  180.0\n",
       "Mont        259       38      4.6   72.0    29   31.0"
      ]
     },
     "execution_count": 108,
     "metadata": {},
     "output_type": "execute_result"
    }
   ],
   "source": [
    "accDeaths"
   ]
  },
  {
   "cell_type": "markdown",
   "metadata": {},
   "source": [
    "As seen in the plot, the highest population density does not have the highest nor the lowest fuel usage"
   ]
  },
  {
   "cell_type": "code",
   "execution_count": 119,
   "metadata": {},
   "outputs": [
    {
     "data": {
      "text/plain": [
       "Text(0.5,0,'Population Density')"
      ]
     },
     "execution_count": 119,
     "metadata": {},
     "output_type": "execute_result"
    },
    {
     "data": {
      "image/png": "[encoded data removed]",
      "text/plain": [
       "<matplotlib.figure.Figure at 0x27a815e34a8>"
      ]
     },
     "metadata": {},
     "output_type": "display_data"
    }
   ],
   "source": [
    "accDeaths.plot(kind='scatter',y='fuel',x='popden',title=\"US Road Data\")\n",
    "plt.ylabel(\"Fuel Consumption\")\n",
    "plt.xlabel('Population Density')"
   ]
  },
  {
   "cell_type": "markdown",
   "metadata": {},
   "source": [
    "There seems to be a correllation, but not in the way you would guess"
   ]
  },
  {
   "cell_type": "code",
   "execution_count": 136,
   "metadata": {},
   "outputs": [
    {
     "data": {
      "text/plain": [
       "Text(-250,-1000,'This is a comparison between the number of drivers and number of deaths per state in the US')"
      ]
     },
     "execution_count": 136,
     "metadata": {},
     "output_type": "execute_result"
    },
    {
     "data": {
      "image/png": "[encoded data removed]",
      "text/plain": [
       "<matplotlib.figure.Figure at 0x27a822bf080>"
      ]
     },
     "metadata": {},
     "output_type": "display_data"
    }
   ],
   "source": [
    "accDeaths.plot(kind='Hexbin',y='deaths',x='drivers',gridsize=30,title='US Road Data')\n",
    "plt.ylabel(\"Number of Deaths\")\n",
    "plt.text(-250,-1000,\"This is a comparison between the number of drivers and number of deaths per state in the US\")"
   ]
  },
  {
   "cell_type": "markdown",
   "metadata": {},
   "source": [
    "Temperature does seem to effect the population density. Most everyone wants to live somewhere where it's about 40 deg."
   ]
  },
  {
   "cell_type": "code",
   "execution_count": 147,
   "metadata": {},
   "outputs": [
    {
     "data": {
      "text/plain": [
       "Text(0.5,0,'Temperature (F)')"
      ]
     },
     "execution_count": 147,
     "metadata": {},
     "output_type": "execute_result"
    },
    {
     "data": {
      "image/png": "[encoded data removed]",
      "text/plain": [
       "<matplotlib.figure.Figure at 0x27a82a00e10>"
      ]
     },
     "metadata": {},
     "output_type": "display_data"
    }
   ],
   "source": [
    "accDeaths.plot(kind='box',x='popden',y='temp',title=\"Population Density According to Temperature\")\n",
    "plt.xlabel(\"Temperature (F)\")"
   ]
  },
  {
   "cell_type": "code",
   "execution_count": 254,
   "metadata": {},
   "outputs": [
    {
     "data": {
      "text/html": [
       "<div>\n",
       "<style scoped>\n",
       "    .dataframe tbody tr th:only-of-type {\n",
       "        vertical-align: middle;\n",
       "    }\n",
       "\n",
       "    .dataframe tbody tr th {\n",
       "        vertical-align: top;\n",
       "    }\n",
       "\n",
       "    .dataframe thead th {\n",
       "        text-align: right;\n",
       "    }\n",
       "</style>\n",
       "<table border=\"1\" class=\"dataframe\">\n",
       "  <thead>\n",
       "    <tr style=\"text-align: right;\">\n",
       "      <th></th>\n",
       "      <th>MURDER &amp; NON-NEGL. MANSLAUGHTER</th>\n",
       "      <th>RAPE</th>\n",
       "      <th>ROBBERY</th>\n",
       "      <th>FELONY ASSAULT</th>\n",
       "      <th>BURGLARY</th>\n",
       "      <th>GRAND LARCENY</th>\n",
       "      <th>GRAND LARCENY OF MOTOR VEHICLE</th>\n",
       "      <th>FELONY POSSESSION OF STOLEN PROPERTY</th>\n",
       "      <th>FORGERY/THEFT_FRAUD/IDENTITY THEFT</th>\n",
       "      <th>ARSON</th>\n",
       "      <th>FELONY SEX CRIMES (3)</th>\n",
       "      <th>FELONY DANGEROUS DRUGS (1)</th>\n",
       "      <th>FELONY DANGEROUS WEAPONS (2)</th>\n",
       "      <th>FEL. CRIMINAL MISCHIEF &amp; RELATED OFFENSES</th>\n",
       "      <th>OTHER FELONIES (4)</th>\n",
       "    </tr>\n",
       "    <tr>\n",
       "      <th>OFFENSE</th>\n",
       "      <th></th>\n",
       "      <th></th>\n",
       "      <th></th>\n",
       "      <th></th>\n",
       "      <th></th>\n",
       "      <th></th>\n",
       "      <th></th>\n",
       "      <th></th>\n",
       "      <th></th>\n",
       "      <th></th>\n",
       "      <th></th>\n",
       "      <th></th>\n",
       "      <th></th>\n",
       "      <th></th>\n",
       "      <th></th>\n",
       "    </tr>\n",
       "  </thead>\n",
       "  <tbody>\n",
       "    <tr>\n",
       "      <th>2000</th>\n",
       "      <td>673</td>\n",
       "      <td>2068</td>\n",
       "      <td>32562</td>\n",
       "      <td>25924</td>\n",
       "      <td>38352</td>\n",
       "      <td>49631</td>\n",
       "      <td>35442</td>\n",
       "      <td>2194</td>\n",
       "      <td>5714</td>\n",
       "      <td>3189</td>\n",
       "      <td>1839</td>\n",
       "      <td>38088</td>\n",
       "      <td>2958</td>\n",
       "      <td>12934</td>\n",
       "      <td>13945</td>\n",
       "    </tr>\n",
       "    <tr>\n",
       "      <th>2001</th>\n",
       "      <td>649</td>\n",
       "      <td>1981</td>\n",
       "      <td>28202</td>\n",
       "      <td>23453</td>\n",
       "      <td>32763</td>\n",
       "      <td>46329</td>\n",
       "      <td>29531</td>\n",
       "      <td>2114</td>\n",
       "      <td>5594</td>\n",
       "      <td>2681</td>\n",
       "      <td>1831</td>\n",
       "      <td>30743</td>\n",
       "      <td>3030</td>\n",
       "      <td>16026</td>\n",
       "      <td>13059</td>\n",
       "    </tr>\n",
       "    <tr>\n",
       "      <th>2002</th>\n",
       "      <td>587</td>\n",
       "      <td>2144</td>\n",
       "      <td>27229</td>\n",
       "      <td>21147</td>\n",
       "      <td>31275</td>\n",
       "      <td>45771</td>\n",
       "      <td>26656</td>\n",
       "      <td>1976</td>\n",
       "      <td>5859</td>\n",
       "      <td>1902</td>\n",
       "      <td>1513</td>\n",
       "      <td>29692</td>\n",
       "      <td>2804</td>\n",
       "      <td>13291</td>\n",
       "      <td>13956</td>\n",
       "    </tr>\n",
       "    <tr>\n",
       "      <th>2003</th>\n",
       "      <td>597</td>\n",
       "      <td>2070</td>\n",
       "      <td>25989</td>\n",
       "      <td>19139</td>\n",
       "      <td>29110</td>\n",
       "      <td>46751</td>\n",
       "      <td>23413</td>\n",
       "      <td>1545</td>\n",
       "      <td>8112</td>\n",
       "      <td>1492</td>\n",
       "      <td>1295</td>\n",
       "      <td>24076</td>\n",
       "      <td>2511</td>\n",
       "      <td>8400</td>\n",
       "      <td>13786</td>\n",
       "    </tr>\n",
       "    <tr>\n",
       "      <th>2004</th>\n",
       "      <td>570</td>\n",
       "      <td>1905</td>\n",
       "      <td>24373</td>\n",
       "      <td>18622</td>\n",
       "      <td>26976</td>\n",
       "      <td>48763</td>\n",
       "      <td>20884</td>\n",
       "      <td>1358</td>\n",
       "      <td>12984</td>\n",
       "      <td>1789</td>\n",
       "      <td>1263</td>\n",
       "      <td>25824</td>\n",
       "      <td>2987</td>\n",
       "      <td>8074</td>\n",
       "      <td>12454</td>\n",
       "    </tr>\n",
       "    <tr>\n",
       "      <th>2005</th>\n",
       "      <td>539</td>\n",
       "      <td>1858</td>\n",
       "      <td>24722</td>\n",
       "      <td>17750</td>\n",
       "      <td>24117</td>\n",
       "      <td>48243</td>\n",
       "      <td>18246</td>\n",
       "      <td>1250</td>\n",
       "      <td>12896</td>\n",
       "      <td>1831</td>\n",
       "      <td>1162</td>\n",
       "      <td>27391</td>\n",
       "      <td>3748</td>\n",
       "      <td>7776</td>\n",
       "      <td>11800</td>\n",
       "    </tr>\n",
       "    <tr>\n",
       "      <th>2006</th>\n",
       "      <td>596</td>\n",
       "      <td>1525</td>\n",
       "      <td>23739</td>\n",
       "      <td>17309</td>\n",
       "      <td>23143</td>\n",
       "      <td>46625</td>\n",
       "      <td>15745</td>\n",
       "      <td>1175</td>\n",
       "      <td>12579</td>\n",
       "      <td>1679</td>\n",
       "      <td>1096</td>\n",
       "      <td>29516</td>\n",
       "      <td>4315</td>\n",
       "      <td>7605</td>\n",
       "      <td>11063</td>\n",
       "    </tr>\n",
       "    <tr>\n",
       "      <th>2007</th>\n",
       "      <td>496</td>\n",
       "      <td>1351</td>\n",
       "      <td>21809</td>\n",
       "      <td>17493</td>\n",
       "      <td>21762</td>\n",
       "      <td>44924</td>\n",
       "      <td>13174</td>\n",
       "      <td>1073</td>\n",
       "      <td>12075</td>\n",
       "      <td>1527</td>\n",
       "      <td>1031</td>\n",
       "      <td>31459</td>\n",
       "      <td>5004</td>\n",
       "      <td>7090</td>\n",
       "      <td>11699</td>\n",
       "    </tr>\n",
       "    <tr>\n",
       "      <th>2008</th>\n",
       "      <td>523</td>\n",
       "      <td>1299</td>\n",
       "      <td>22401</td>\n",
       "      <td>16284</td>\n",
       "      <td>20725</td>\n",
       "      <td>44242</td>\n",
       "      <td>12482</td>\n",
       "      <td>1016</td>\n",
       "      <td>12216</td>\n",
       "      <td>1896</td>\n",
       "      <td>909</td>\n",
       "      <td>28936</td>\n",
       "      <td>5263</td>\n",
       "      <td>7003</td>\n",
       "      <td>11719</td>\n",
       "    </tr>\n",
       "    <tr>\n",
       "      <th>2009</th>\n",
       "      <td>471</td>\n",
       "      <td>1205</td>\n",
       "      <td>18601</td>\n",
       "      <td>16773</td>\n",
       "      <td>19430</td>\n",
       "      <td>39580</td>\n",
       "      <td>10670</td>\n",
       "      <td>823</td>\n",
       "      <td>10225</td>\n",
       "      <td>1474</td>\n",
       "      <td>914</td>\n",
       "      <td>26025</td>\n",
       "      <td>5952</td>\n",
       "      <td>6397</td>\n",
       "      <td>11950</td>\n",
       "    </tr>\n",
       "    <tr>\n",
       "      <th>2010</th>\n",
       "      <td>536</td>\n",
       "      <td>1373</td>\n",
       "      <td>19486</td>\n",
       "      <td>16956</td>\n",
       "      <td>18600</td>\n",
       "      <td>37835</td>\n",
       "      <td>10329</td>\n",
       "      <td>864</td>\n",
       "      <td>10055</td>\n",
       "      <td>1467</td>\n",
       "      <td>1053</td>\n",
       "      <td>22913</td>\n",
       "      <td>5413</td>\n",
       "      <td>6006</td>\n",
       "      <td>11616</td>\n",
       "    </tr>\n",
       "    <tr>\n",
       "      <th>2011</th>\n",
       "      <td>515</td>\n",
       "      <td>1420</td>\n",
       "      <td>19717</td>\n",
       "      <td>18482</td>\n",
       "      <td>18720</td>\n",
       "      <td>38501</td>\n",
       "      <td>9314</td>\n",
       "      <td>823</td>\n",
       "      <td>9876</td>\n",
       "      <td>1264</td>\n",
       "      <td>1028</td>\n",
       "      <td>21305</td>\n",
       "      <td>5037</td>\n",
       "      <td>6374</td>\n",
       "      <td>11533</td>\n",
       "    </tr>\n",
       "    <tr>\n",
       "      <th>2012</th>\n",
       "      <td>419</td>\n",
       "      <td>1445</td>\n",
       "      <td>20144</td>\n",
       "      <td>19381</td>\n",
       "      <td>19168</td>\n",
       "      <td>42497</td>\n",
       "      <td>8093</td>\n",
       "      <td>711</td>\n",
       "      <td>10233</td>\n",
       "      <td>1253</td>\n",
       "      <td>1380</td>\n",
       "      <td>19680</td>\n",
       "      <td>4979</td>\n",
       "      <td>6737</td>\n",
       "      <td>11929</td>\n",
       "    </tr>\n",
       "    <tr>\n",
       "      <th>2013</th>\n",
       "      <td>335</td>\n",
       "      <td>1378</td>\n",
       "      <td>19128</td>\n",
       "      <td>20297</td>\n",
       "      <td>17429</td>\n",
       "      <td>45368</td>\n",
       "      <td>7400</td>\n",
       "      <td>689</td>\n",
       "      <td>9493</td>\n",
       "      <td>1187</td>\n",
       "      <td>1073</td>\n",
       "      <td>19571</td>\n",
       "      <td>5155</td>\n",
       "      <td>7468</td>\n",
       "      <td>13014</td>\n",
       "    </tr>\n",
       "    <tr>\n",
       "      <th>2014</th>\n",
       "      <td>333</td>\n",
       "      <td>1352</td>\n",
       "      <td>16539</td>\n",
       "      <td>20207</td>\n",
       "      <td>16765</td>\n",
       "      <td>43862</td>\n",
       "      <td>7664</td>\n",
       "      <td>1090</td>\n",
       "      <td>9520</td>\n",
       "      <td>1205</td>\n",
       "      <td>1135</td>\n",
       "      <td>17113</td>\n",
       "      <td>4605</td>\n",
       "      <td>8466</td>\n",
       "      <td>13735</td>\n",
       "    </tr>\n",
       "    <tr>\n",
       "      <th>2015</th>\n",
       "      <td>352</td>\n",
       "      <td>1438</td>\n",
       "      <td>16931</td>\n",
       "      <td>20270</td>\n",
       "      <td>15125</td>\n",
       "      <td>44005</td>\n",
       "      <td>7332</td>\n",
       "      <td>904</td>\n",
       "      <td>10400</td>\n",
       "      <td>1026</td>\n",
       "      <td>1152</td>\n",
       "      <td>15279</td>\n",
       "      <td>4848</td>\n",
       "      <td>9253</td>\n",
       "      <td>13658</td>\n",
       "    </tr>\n",
       "    <tr>\n",
       "      <th>2016</th>\n",
       "      <td>335</td>\n",
       "      <td>1438</td>\n",
       "      <td>15500</td>\n",
       "      <td>20847</td>\n",
       "      <td>12990</td>\n",
       "      <td>44279</td>\n",
       "      <td>6327</td>\n",
       "      <td>769</td>\n",
       "      <td>11079</td>\n",
       "      <td>802</td>\n",
       "      <td>1336</td>\n",
       "      <td>14712</td>\n",
       "      <td>5465</td>\n",
       "      <td>9966</td>\n",
       "      <td>14217</td>\n",
       "    </tr>\n",
       "    <tr>\n",
       "      <th>2017</th>\n",
       "      <td>292</td>\n",
       "      <td>1449</td>\n",
       "      <td>13956</td>\n",
       "      <td>20052</td>\n",
       "      <td>12083</td>\n",
       "      <td>43150</td>\n",
       "      <td>5676</td>\n",
       "      <td>1019</td>\n",
       "      <td>10063</td>\n",
       "      <td>680</td>\n",
       "      <td>1367</td>\n",
       "      <td>13348</td>\n",
       "      <td>4843</td>\n",
       "      <td>10073</td>\n",
       "      <td>13514</td>\n",
       "    </tr>\n",
       "  </tbody>\n",
       "</table>\n",
       "</div>"
      ],
      "text/plain": [
       "         MURDER & NON-NEGL. MANSLAUGHTER  RAPE  ROBBERY  FELONY ASSAULT  \\\n",
       "OFFENSE                                                                   \n",
       "2000                                 673  2068    32562           25924   \n",
       "2001                                 649  1981    28202           23453   \n",
       "2002                                 587  2144    27229           21147   \n",
       "2003                                 597  2070    25989           19139   \n",
       "2004                                 570  1905    24373           18622   \n",
       "2005                                 539  1858    24722           17750   \n",
       "2006                                 596  1525    23739           17309   \n",
       "2007                                 496  1351    21809           17493   \n",
       "2008                                 523  1299    22401           16284   \n",
       "2009                                 471  1205    18601           16773   \n",
       "2010                                 536  1373    19486           16956   \n",
       "2011                                 515  1420    19717           18482   \n",
       "2012                                 419  1445    20144           19381   \n",
       "2013                                 335  1378    19128           20297   \n",
       "2014                                 333  1352    16539           20207   \n",
       "2015                                 352  1438    16931           20270   \n",
       "2016                                 335  1438    15500           20847   \n",
       "2017                                 292  1449    13956           20052   \n",
       "\n",
       "         BURGLARY  GRAND LARCENY  GRAND LARCENY OF MOTOR VEHICLE  \\\n",
       "OFFENSE                                                            \n",
       "2000        38352          49631                           35442   \n",
       "2001        32763          46329                           29531   \n",
       "2002        31275          45771                           26656   \n",
       "2003        29110          46751                           23413   \n",
       "2004        26976          48763                           20884   \n",
       "2005        24117          48243                           18246   \n",
       "2006        23143          46625                           15745   \n",
       "2007        21762          44924                           13174   \n",
       "2008        20725          44242                           12482   \n",
       "2009        19430          39580                           10670   \n",
       "2010        18600          37835                           10329   \n",
       "2011        18720          38501                            9314   \n",
       "2012        19168          42497                            8093   \n",
       "2013        17429          45368                            7400   \n",
       "2014        16765          43862                            7664   \n",
       "2015        15125          44005                            7332   \n",
       "2016        12990          44279                            6327   \n",
       "2017        12083          43150                            5676   \n",
       "\n",
       "         FELONY POSSESSION OF STOLEN PROPERTY  \\\n",
       "OFFENSE                                         \n",
       "2000                                     2194   \n",
       "2001                                     2114   \n",
       "2002                                     1976   \n",
       "2003                                     1545   \n",
       "2004                                     1358   \n",
       "2005                                     1250   \n",
       "2006                                     1175   \n",
       "2007                                     1073   \n",
       "2008                                     1016   \n",
       "2009                                      823   \n",
       "2010                                      864   \n",
       "2011                                      823   \n",
       "2012                                      711   \n",
       "2013                                      689   \n",
       "2014                                     1090   \n",
       "2015                                      904   \n",
       "2016                                      769   \n",
       "2017                                     1019   \n",
       "\n",
       "         FORGERY/THEFT_FRAUD/IDENTITY THEFT  ARSON  FELONY SEX CRIMES (3)  \\\n",
       "OFFENSE                                                                     \n",
       "2000                                   5714   3189                   1839   \n",
       "2001                                   5594   2681                   1831   \n",
       "2002                                   5859   1902                   1513   \n",
       "2003                                   8112   1492                   1295   \n",
       "2004                                  12984   1789                   1263   \n",
       "2005                                  12896   1831                   1162   \n",
       "2006                                  12579   1679                   1096   \n",
       "2007                                  12075   1527                   1031   \n",
       "2008                                  12216   1896                    909   \n",
       "2009                                  10225   1474                    914   \n",
       "2010                                  10055   1467                   1053   \n",
       "2011                                   9876   1264                   1028   \n",
       "2012                                  10233   1253                   1380   \n",
       "2013                                   9493   1187                   1073   \n",
       "2014                                   9520   1205                   1135   \n",
       "2015                                  10400   1026                   1152   \n",
       "2016                                  11079    802                   1336   \n",
       "2017                                  10063    680                   1367   \n",
       "\n",
       "         FELONY DANGEROUS DRUGS (1)  FELONY DANGEROUS WEAPONS (2)  \\\n",
       "OFFENSE                                                             \n",
       "2000                          38088                          2958   \n",
       "2001                          30743                          3030   \n",
       "2002                          29692                          2804   \n",
       "2003                          24076                          2511   \n",
       "2004                          25824                          2987   \n",
       "2005                          27391                          3748   \n",
       "2006                          29516                          4315   \n",
       "2007                          31459                          5004   \n",
       "2008                          28936                          5263   \n",
       "2009                          26025                          5952   \n",
       "2010                          22913                          5413   \n",
       "2011                          21305                          5037   \n",
       "2012                          19680                          4979   \n",
       "2013                          19571                          5155   \n",
       "2014                          17113                          4605   \n",
       "2015                          15279                          4848   \n",
       "2016                          14712                          5465   \n",
       "2017                          13348                          4843   \n",
       "\n",
       "         FEL. CRIMINAL MISCHIEF & RELATED OFFENSES  OTHER FELONIES (4)  \n",
       "OFFENSE                                                                 \n",
       "2000                                         12934               13945  \n",
       "2001                                         16026               13059  \n",
       "2002                                         13291               13956  \n",
       "2003                                          8400               13786  \n",
       "2004                                          8074               12454  \n",
       "2005                                          7776               11800  \n",
       "2006                                          7605               11063  \n",
       "2007                                          7090               11699  \n",
       "2008                                          7003               11719  \n",
       "2009                                          6397               11950  \n",
       "2010                                          6006               11616  \n",
       "2011                                          6374               11533  \n",
       "2012                                          6737               11929  \n",
       "2013                                          7468               13014  \n",
       "2014                                          8466               13735  \n",
       "2015                                          9253               13658  \n",
       "2016                                          9966               14217  \n",
       "2017                                         10073               13514  "
      ]
     },
     "execution_count": 254,
     "metadata": {},
     "output_type": "execute_result"
    }
   ],
   "source": [
    "crimeData = pd.read_csv(\"new_york_crime_clean.csv\",header=0,index_col=0)\n",
    "crimeData"
   ]
  },
  {
   "cell_type": "markdown",
   "metadata": {},
   "source": [
    "Grand Larceny is the most common offense\n",
    "\n",
    "Murder is the least common offense"
   ]
  },
  {
   "cell_type": "code",
   "execution_count": 244,
   "metadata": {},
   "outputs": [
    {
     "data": {
      "text/plain": [
       "Text(0.5,0,'Year')"
      ]
     },
     "execution_count": 244,
     "metadata": {},
     "output_type": "execute_result"
    },
    {
     "data": {
      "image/png": "[encoded data removed]",
      "text/plain": [
       "<matplotlib.figure.Figure at 0x27ab43da128>"
      ]
     },
     "metadata": {},
     "output_type": "display_data"
    }
   ],
   "source": [
    "crimeData.plot(linewidth=1,title='Crimes in NYC')\n",
    "plt.legend(bbox_to_anchor=(1,0.5,0.5,0.5))\n",
    "plt.ylabel(\"Frequency\")\n",
    "plt.xlabel(\"Year\")"
   ]
  },
  {
   "cell_type": "markdown",
   "metadata": {},
   "source": [
    "There is a trend! Many robbery offenses happen in the same year as drug offenses"
   ]
  },
  {
   "cell_type": "code",
   "execution_count": 245,
   "metadata": {},
   "outputs": [
    {
     "data": {
      "text/plain": [
       "<matplotlib.axes._subplots.AxesSubplot at 0x27ab4489eb8>"
      ]
     },
     "execution_count": 245,
     "metadata": {},
     "output_type": "execute_result"
    },
    {
     "data": {
      "image/png": "[encoded data removed]",
      "text/plain": [
       "<matplotlib.figure.Figure at 0x27ab4489128>"
      ]
     },
     "metadata": {},
     "output_type": "display_data"
    }
   ],
   "source": [
    "crimeData.plot(kind='hexbin',x='ROBBERY',y='FELONY DANGEROUS DRUGS (1)',gridsize=30,title=\"Correlation between Robbery and Drug felony\")"
   ]
  },
  {
   "cell_type": "markdown",
   "metadata": {},
   "source": [
    "It seems that Grand Larceny of Motor Vehicles had the largest distribution as well as Burglary and Felony Dangerous Drugs (1)"
   ]
  },
  {
   "cell_type": "code",
   "execution_count": 284,
   "metadata": {},
   "outputs": [
    {
     "data": {
      "image/png": "[encoded data removed]",
      "text/plain": [
       "<matplotlib.figure.Figure at 0x27abd4a6160>"
      ]
     },
     "metadata": {},
     "output_type": "display_data"
    }
   ],
   "source": [
    "for x in crimeData.columns:\n",
    "    plt.barh(x,max(crimeData[x])-min(crimeData[x]))\n",
    "plt.title(\"Largest Variance in Crimes Committed\")\n",
    "plt.xlabel(\"Number of Times Crime was Committed\")\n",
    "plt.ylabel(\"Crimes\")\n",
    "plt.show()"
   ]
  }
 ],
 "metadata": {
  "kernelspec": {
   "display_name": "Python 3",
   "language": "python",
   "name": "python3"
  },
  "language_info": {
   "codemirror_mode": {
    "name": "ipython",
    "version": 3
   },
   "file_extension": ".py",
   "mimetype": "text/x-python",
   "name": "python",
   "nbconvert_exporter": "python",
   "pygments_lexer": "ipython3",
   "version": "3.7.1"
  }
 },
 "nbformat": 4,
 "nbformat_minor": 2
}
