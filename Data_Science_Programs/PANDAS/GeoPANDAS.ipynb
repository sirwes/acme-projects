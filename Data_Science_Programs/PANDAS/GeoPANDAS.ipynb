{
 "cells": [
  {
   "cell_type": "code",
   "execution_count": null,
   "metadata": {},
   "outputs": [],
   "source": [
    "import geopandas as geop\n",
    "from matplotlib import pyplot as plt\n",
    "import geoplot.crs as gcrs\n",
    "import geoplot\n",
    "import numpy as np\n",
    "import pandas as pd\n",
    "from shapely.geometry import Point"
   ]
  },
  {
   "cell_type": "code",
   "execution_count": null,
   "metadata": {},
   "outputs": [],
   "source": [
    "airportData = pd.read_csv(\"airports.csv\")\n",
    "airportData['Coordinates'] = list(zip(airportData.Longitude,airportData.Latitude))\n",
    "airportData['Coordinates'] = airportData['Coordinates'].apply(Point)\n",
    "airgdf = geop.GeoDataFrame(airportData, geometry=\"Coordinates\")\n",
    "airgdf.sample(5)"
   ]
  },
  {
   "cell_type": "code",
   "execution_count": null,
   "metadata": {},
   "outputs": [],
   "source": [
    "h = airportData[airportData[\"IATA\"] == \"YAW\"].index[0]\n",
    "m = airportData[airportData[\"IATA\"] == \"LOS\"].index[0]\n",
    "airgdf.Coordinates.iloc[h].distance(airgdf.Coordinates.iloc[m])"
   ]
  },
  {
   "cell_type": "code",
   "execution_count": null,
   "metadata": {},
   "outputs": [],
   "source": [
    "d = airportData[airportData[\"Name\"]==\"Don Mueang International Airport\"].index[0]\n",
    "b =airportData[airportData[\"Name\"]==\"Beijing Capital International Airport\"].index[0]\n",
    "airgdf.Coordinates.iloc[d].distance(airgdf.Coordinates.iloc[b])"
   ]
  },
  {
   "cell_type": "code",
   "execution_count": null,
   "metadata": {},
   "outputs": [],
   "source": [
    "d = airportData[airportData[\"Name\"]==\"Salt Lake City International Airport\"].index[0]\n",
    "b =airportData[airportData[\"Name\"]==\"Auckland International Airport\"].index[0]\n",
    "airgdf.Coordinates.iloc[d].distance(airgdf.Coordinates.iloc[b])"
   ]
  },
  {
   "cell_type": "code",
   "execution_count": null,
   "metadata": {},
   "outputs": [],
   "source": [
    "gdf = geop.read_file(geop.datasets.get_path(\"naturalearth_lowres\"))\n",
    "southern_world = gdf.cx[:, :0]\n",
    "southern_world.sample(4)"
   ]
  },
  {
   "cell_type": "code",
   "execution_count": null,
   "metadata": {},
   "outputs": [],
   "source": [
    "areas = southern_world.area\n",
    "print(\"Smallest Country: \",southern_world.loc[[x for x in areas.index if areas[x] == min(areas)][0]][\"name\"])\n",
    "print(\"Largest Country: \",southern_world.loc[[x for x in areas.index if areas[x] == max(areas)][0]][\"name\"])\n",
    "\n",
    "continents = southern_world.dissolve(by='continent',aggfunc='sum')\n",
    "careas = continents.area\n",
    "print(\"Smallest Continent: \",[x for x in careas.index if careas[x] == min(careas)][0])\n",
    "print(\"Largest Continent: \",[x for x in careas.index if careas[x] == max(careas)][0])\n"
   ]
  },
  {
   "cell_type": "code",
   "execution_count": null,
   "metadata": {},
   "outputs": [],
   "source": [
    "gdf.crs = {'init': 'epsg:3395'}\n",
    "#plot the pop density of asia\n",
    "asia = gdf[gdf['continent']=='Asia']\n",
    "asia['pop_density'] = asia['pop_est']/asia.area\n",
    "asia.plot(column='pop_density',cmap='OrRd',legend=True)\n",
    "plt.title(\"Population density of Asia\")\n",
    "plt.show()\n",
    "\n",
    "#plot the pop density of South America\n",
    "southAm = gdf[gdf['continent']=='South America']\n",
    "southAm['pop_density'] = southAm['pop_est']/southAm.area\n",
    "southAm.plot(column = 'pop_density',cmap='OrRd',legend=True)\n",
    "plt.title(\"Population density of South America\")\n",
    "plt.show()"
   ]
  },
  {
   "cell_type": "code",
   "execution_count": null,
   "metadata": {},
   "outputs": [],
   "source": [
    "airgdf.crs = {'init': 'epsg:3395'}\n",
    "df = geop.sjoin(gdf, airgdf, how = 'inner',op='intersects')\n",
    "df[df[\"pop_est\"] == min(df.pop_est)].Name"
   ]
  }
 ],
 "metadata": {
  "kernelspec": {
   "display_name": "Python 3",
   "language": "python",
   "name": "python3"
  },
  "language_info": {
   "codemirror_mode": {
    "name": "ipython",
    "version": 3
   },
   "file_extension": ".py",
   "mimetype": "text/x-python",
   "name": "python",
   "nbconvert_exporter": "python",
   "pygments_lexer": "ipython3",
   "version": "3.7.1"
  }
 },
 "nbformat": 4,
 "nbformat_minor": 2
}
