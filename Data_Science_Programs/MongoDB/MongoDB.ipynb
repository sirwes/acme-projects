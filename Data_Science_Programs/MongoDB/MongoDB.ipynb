{
 "cells": [
  {
   "cell_type": "code",
   "execution_count": 1,
   "metadata": {
    "collapsed": true
   },
   "outputs": [],
   "source": [
    "import re\n",
    "import json\n",
    "from pymongo import MongoClient"
   ]
  },
  {
   "cell_type": "markdown",
   "metadata": {},
   "source": [
    "The file `trump.json` contains posts from http://www.twitter.com (tweets) over the course of an hour that have the key word \"trump\".\n",
    "Each line in the file is a single JSON message that can be loaded with `json.loads()`."
   ]
  },
  {
   "cell_type": "code",
   "execution_count": 7,
   "metadata": {},
   "outputs": [
    {
     "name": "stderr",
     "output_type": "stream",
     "text": [
      "/usr/local/anaconda3/lib/python3.6/site-packages/ipykernel_launcher.py:9: DeprecationWarning: count is deprecated. Use estimated_document_count or count_documents instead. Please note that $where must be replaced by $expr, $near must be replaced by $geoWithin with $center, and $nearSphere must be replaced by $geoWithin with $centerSphere\n",
      "  if __name__ == '__main__':\n"
     ]
    },
    {
     "data": {
      "text/plain": [
       "95643"
      ]
     },
     "execution_count": 7,
     "metadata": {},
     "output_type": "execute_result"
    }
   ],
   "source": [
    "#initialize the client,database, and collection\n",
    "client = MongoClient()\n",
    "db = client.db1\n",
    "col = db.collection1\n",
    "col.delete_many({})\n",
    "#read in the info in the file and deserialize it while saving it in the collection\n",
    "with open('trump.json','r') as file:\n",
    "    fileinfo = file.readlines()\n",
    "    for line in fileinfo:\n",
    "        col.insert_one(json.loads(line))\n",
    "#return the number of elements\n",
    "col.count()"
   ]
  },
  {
   "cell_type": "code",
   "execution_count": 78,
   "metadata": {},
   "outputs": [
    {
     "name": "stderr",
     "output_type": "stream",
     "text": [
      "/usr/local/anaconda3/lib/python3.6/site-packages/ipykernel_launcher.py:2: DeprecationWarning: count is deprecated. Use Collection.count_documents instead.\n",
      "  \n"
     ]
    },
    {
     "name": "stdout",
     "output_type": "stream",
     "text": [
      "5841 tweets contain the word Russia\n"
     ]
    }
   ],
   "source": [
    "russia = col.find({'text':{'$regex':re.compile('russia',re.IGNORECASE)}})\n",
    "print('{} tweets contain the word Russia'.format(russia.count()))"
   ]
  },
  {
   "cell_type": "code",
   "execution_count": 79,
   "metadata": {},
   "outputs": [
    {
     "name": "stderr",
     "output_type": "stream",
     "text": [
      "/usr/local/anaconda3/lib/python3.6/site-packages/ipykernel_launcher.py:5: DeprecationWarning: count is deprecated. Use Collection.count_documents instead.\n",
      "  \"\"\"\n"
     ]
    },
    {
     "name": "stdout",
     "output_type": "stream",
     "text": [
      "34089 tweets came from the main continental US time zones\n"
     ]
    }
   ],
   "source": [
    "#use regex to find the time zone names\n",
    "CT = col.find({'user.time_zone':{'$regex':re.compile('Central')}})\n",
    "PT = col.find({'user.time_zone':{'$regex':re.compile('Pacific')}})\n",
    "ET = col.find({'user.time_zone':{'$regex':re.compile('Eastern')}})\n",
    "MT = col.find({'user.time_zone':{'$regex':re.compile('Mountain')}})\n",
    "print(\"{} tweets came from the main continental US time zones\".format(CT.count()+PT.count()+ET.count()+MT.count()))\n"
   ]
  },
  {
   "cell_type": "code",
   "execution_count": 83,
   "metadata": {},
   "outputs": [
    {
     "name": "stderr",
     "output_type": "stream",
     "text": [
      "/usr/local/anaconda3/lib/python3.6/site-packages/ipykernel_launcher.py:8: DeprecationWarning: count is deprecated. Use Collection.count_documents instead.\n",
      "  \n"
     ]
    },
    {
     "name": "stdout",
     "output_type": "stream",
     "text": [
      "Frequency of languages: {'en': 84919, 'fr': 1235, 'es': 3027, 'tr': 588, 'nl': 212, 'pt': 632, 'und': 1653, 'it': 423, 'de': 635, 'da': 35, 'zh': 1, 'ru': 29, 'pl': 108, 'no': 21, 'eu': 6, 'tl': 48, 'in': 121, 'cs': 13, 'ht': 21, 'ro': 21, 'sl': 3, 'sv': 55, 'fi': 20, 'ar': 30, 'et': 23, 'lt': 8, 'hu': 6, 'el': 10, 'ja': 17, 'lv': 2, 'vi': 7, 'fa': 5, 'ko': 2, 'ur': 1, 'cy': 2, 'th': 3, 'is': 1, 'iw': 1, 'uk': 3}\n"
     ]
    }
   ],
   "source": [
    "#make a list of all of the unique languages\n",
    "languages = col.distinct('lang')\n",
    "langs = {}\n",
    "for language in languages:\n",
    "    langs[language] = 0\n",
    "#find how many tweets are contained in each language and save them\n",
    "for x in langs:\n",
    "    lang = col.find({'lang':x})\n",
    "    langs[x] = lang.count()\n",
    "#print results    \n",
    "print('Frequency of languages:',langs)"
   ]
  },
  {
   "cell_type": "code",
   "execution_count": 96,
   "metadata": {},
   "outputs": [
    {
     "name": "stdout",
     "output_type": "stream",
     "text": [
      "{'CNN': 35481010, 'Reuters Top News': 17821353, 'Fox News': 14663497, 'Wall Street Journal': 14023091, 'TIME': 14017299}\n"
     ]
    }
   ],
   "source": [
    "#find and sort from largest to smallest the users with the most followers\n",
    "top5 = col.find({'user.followers_count':{'$exists':True}}).sort('user.followers_count',-1)\n",
    "results = {}\n",
    "#save the usernames of each of these guys without duplicates\n",
    "for x in range(20):\n",
    "    uname = top5[x]['user']['name']\n",
    "    if uname not in results:\n",
    "        results[uname] = top5[x]['user']['followers_count']\n",
    "    #once we have all of the results that we want, quit\n",
    "    if len(results) == 5:\n",
    "        break\n",
    "print(results)\n"
   ]
  },
  {
   "cell_type": "code",
   "execution_count": 140,
   "metadata": {},
   "outputs": [
    {
     "name": "stdout",
     "output_type": "stream",
     "text": [
      "The 5th hashtags appears earliest at character #23\n"
     ]
    }
   ],
   "source": [
    "hash5 = col.find({'entities.hashtags.4':{'$exists':True}}).sort('entities.hashtags.4.indices.0',1)[0]\n",
    "print(\"The 5th hashtags appears earliest at character #{}\".format(hash5['entities']['hashtags'][4]['indices'][0]))"
   ]
  },
  {
   "cell_type": "code",
   "execution_count": 109,
   "metadata": {},
   "outputs": [
    {
     "name": "stdout",
     "output_type": "stream",
     "text": [
      "[28.99237342, 41.06803023]\n"
     ]
    }
   ],
   "source": [
    "top = col.find({'coordinates.coordinates':{'$exists':True}}).sort('coordinates.coordinates.0',-1)[0]\n",
    "print(top['coordinates']['coordinates'])"
   ]
  },
  {
   "cell_type": "code",
   "execution_count": 150,
   "metadata": {},
   "outputs": [
    {
     "data": {
      "text/plain": [
       "<pymongo.results.UpdateResult at 0x7f963128a808>"
      ]
     },
     "execution_count": 150,
     "metadata": {},
     "output_type": "execute_result"
    }
   ],
   "source": [
    "col.update_many({'retweeted_status':True},{'$unset':{'retweeted_status':True}})"
   ]
  },
  {
   "cell_type": "code",
   "execution_count": 151,
   "metadata": {},
   "outputs": [
    {
     "data": {
      "text/plain": [
       "<pymongo.results.UpdateResult at 0x7f963019df08>"
      ]
     },
     "execution_count": 151,
     "metadata": {},
     "output_type": "execute_result"
    }
   ],
   "source": [
    "col.update_many({'user.followers_count':{'$gte':1000}},{'$set':{'popular':True}})"
   ]
  },
  {
   "cell_type": "code",
   "execution_count": 153,
   "metadata": {},
   "outputs": [
    {
     "name": "stderr",
     "output_type": "stream",
     "text": [
      "/usr/local/anaconda3/lib/python3.6/site-packages/ipykernel_launcher.py:1: DeprecationWarning: count is deprecated. Use Collection.count_documents instead.\n",
      "  \"\"\"Entry point for launching an IPython kernel.\n"
     ]
    },
    {
     "data": {
      "text/plain": [
       "32489"
      ]
     },
     "execution_count": 153,
     "metadata": {},
     "output_type": "execute_result"
    }
   ],
   "source": [
    "col.find({\"popular\":True}).count()"
   ]
  },
  {
   "cell_type": "code",
   "execution_count": null,
   "metadata": {
    "collapsed": true
   },
   "outputs": [],
   "source": []
  }
 ],
 "metadata": {
  "kernelspec": {
   "display_name": "Python 3",
   "language": "python",
   "name": "python3"
  },
  "language_info": {
   "codemirror_mode": {
    "name": "ipython",
    "version": 3
   },
   "file_extension": ".py",
   "mimetype": "text/x-python",
   "name": "python",
   "nbconvert_exporter": "python",
   "pygments_lexer": "ipython3",
   "version": "3.7.1"
  }
 },
 "nbformat": 4,
 "nbformat_minor": 2
}
