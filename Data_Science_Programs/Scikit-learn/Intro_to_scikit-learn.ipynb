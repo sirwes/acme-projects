{
 "cells": [
  {
   "cell_type": "code",
   "execution_count": 21,
   "metadata": {},
   "outputs": [],
   "source": [
    "import numpy as np\n",
    "import pandas as pd\n",
    "from sklearn.model_selection import train_test_split \n",
    "from sklearn.linear_model import LogisticRegression as lr\n",
    "from sklearn.ensemble import RandomForestClassifier as rfc\n",
    "from sklearn.base import BaseEstimator, ClassifierMixin\n",
    "from sklearn.metrics import classification_report\n",
    "from sklearn.model_selection import GridSearchCV\n",
    "from sklearn.pipeline import Pipeline\n",
    "from sklearn.preprocessing import StandardScaler\n",
    "from sklearn.preprocessing import MinMaxScaler"
   ]
  },
  {
   "cell_type": "markdown",
   "metadata": {},
   "source": [
    "Building my own transformer class for the Titanic dataset"
   ]
  },
  {
   "cell_type": "code",
   "execution_count": 3,
   "metadata": {},
   "outputs": [],
   "source": [
    "class Transformer(BaseEstimator, ClassifierMixin):\n",
    "\n",
    "    def fit(self,df):\n",
    "        df.Age = df.Age.fillna(df.Age.mean())\n",
    "        self.df = df\n",
    "        return self\n",
    "\n",
    "    def transform(self,df):\n",
    "        \"\"\"\n",
    "        1. Extract a copy of data frame with just the \"Pclass\", \"Sex\", and \"Age\" columns\n",
    "        2. Replace NaN values in the \"Age\" column (of the copied data frame) with the mean age.\n",
    "            The mean age of the training data should be calculated in fit() and used in transform() \n",
    "            (compare this step to using sklearn.preprocessing.Imputer).\n",
    "        3. Convert the \"Pclass\" column datatype to pandas categoricals (pd.CategoricalIndex).\n",
    "        4. Use pd.get_dummies() to convert the categorical columns to multiple binary columns \n",
    "            (compare this step to using sklearn.preprocessing.OneHotEncoder).\n",
    "        5. Cast the result as a NumPy array and return it. \n",
    "            Ensure that your transformer matches scikit-learn conventions \n",
    "            (it inherits from the correct base classes, fit() returns self, etc.).\n",
    "        \"\"\"\n",
    "        #df = pd.read_csv(\"titanic.csv\")\n",
    "        #extract pclass, sex, and age\n",
    "        self.df = df[[\"Pclass\",\"Sex\",\"Age\"]]\n",
    "        #fill the NaN values in Age column with the avg\n",
    "        self.fit(self.df)\n",
    "        #convert Pclass to pandas categoricals\n",
    "        self.df.Pclass = self.df.Pclass.astype('category')\n",
    "        #one-hot encode categorical columns\n",
    "        self.df = pd.get_dummies(self.df,columns=[\"Pclass\",\"Sex\"],drop_first=True )\n",
    "        #return as a numpy array\n",
    "        return np.array(self.df)"
   ]
  },
  {
   "cell_type": "code",
   "execution_count": 9,
   "metadata": {},
   "outputs": [
    {
     "name": "stdout",
     "output_type": "stream",
     "text": [
      "0.7986111111111112 0.7569444444444444\n"
     ]
    },
    {
     "name": "stderr",
     "output_type": "stream",
     "text": [
      "/usr/local/anaconda3/lib/python3.6/site-packages/pandas/core/generic.py:4405: SettingWithCopyWarning: \n",
      "A value is trying to be set on a copy of a slice from a DataFrame.\n",
      "Try using .loc[row_indexer,col_indexer] = value instead\n",
      "\n",
      "See the caveats in the documentation: http://pandas.pydata.org/pandas-docs/stable/indexing.html#indexing-view-versus-copy\n",
      "  self[name] = value\n"
     ]
    }
   ],
   "source": [
    "df = pd.read_csv(\"titanic.csv\")\n",
    "df.dropna(subset=[\"Survived\"],inplace=True)\n",
    "survived = df.Survived\n",
    "df = df.drop([\"Survived\"],axis=1)\n",
    "X_train,X_test,trainY,testY = train_test_split(df,survived,test_size=0.33,random_state=42)\n",
    "#return y_train\n",
    "t = Transformer()\n",
    "trainX = t.transform(X_train)\n",
    "testX = t.transform(X_test)\n",
    "clf = lr().fit(trainX,trainY)\n",
    "logp = clf.predict(testX)\n",
    "lrScore = clf.score(testX,testY)\n",
    "clf = rfc().fit(trainX,trainY)\n",
    "rfp = clf.predict(testX)\n",
    "rfScore = clf.score(testX,testY)\n",
    "print(lrScore,rfScore)"
   ]
  },
  {
   "cell_type": "code",
   "execution_count": 11,
   "metadata": {},
   "outputs": [
    {
     "name": "stdout",
     "output_type": "stream",
     "text": [
      "             precision    recall  f1-score   support\n",
      "\n",
      "        0.0       0.79      0.89      0.84       254\n",
      "        1.0       0.81      0.66      0.73       178\n",
      "\n",
      "avg / total       0.80      0.80      0.79       432\n",
      "\n",
      "             precision    recall  f1-score   support\n",
      "\n",
      "        0.0       0.75      0.87      0.81       254\n",
      "        1.0       0.76      0.60      0.67       178\n",
      "\n",
      "avg / total       0.76      0.76      0.75       432\n",
      "\n"
     ]
    }
   ],
   "source": [
    "print(classification_report(testY,logp))\n",
    "print(classification_report(testY,rfp))"
   ]
  },
  {
   "cell_type": "markdown",
   "metadata": {},
   "source": [
    "Let's try some Grid Searches!"
   ]
  },
  {
   "cell_type": "code",
   "execution_count": 13,
   "metadata": {},
   "outputs": [
    {
     "name": "stderr",
     "output_type": "stream",
     "text": [
      "/usr/local/anaconda3/lib/python3.6/site-packages/sklearn/linear_model/sag.py:326: ConvergenceWarning: The max_iter was reached which means the coef_ did not converge\n",
      "  \"the coef_ did not converge\", ConvergenceWarning)\n",
      "/usr/local/anaconda3/lib/python3.6/site-packages/sklearn/linear_model/sag.py:326: ConvergenceWarning: The max_iter was reached which means the coef_ did not converge\n",
      "  \"the coef_ did not converge\", ConvergenceWarning)\n",
      "/usr/local/anaconda3/lib/python3.6/site-packages/sklearn/linear_model/sag.py:326: ConvergenceWarning: The max_iter was reached which means the coef_ did not converge\n",
      "  \"the coef_ did not converge\", ConvergenceWarning)\n",
      "/usr/local/anaconda3/lib/python3.6/site-packages/sklearn/linear_model/sag.py:326: ConvergenceWarning: The max_iter was reached which means the coef_ did not converge\n",
      "  \"the coef_ did not converge\", ConvergenceWarning)\n",
      "/usr/local/anaconda3/lib/python3.6/site-packages/sklearn/linear_model/sag.py:326: ConvergenceWarning: The max_iter was reached which means the coef_ did not converge\n",
      "  \"the coef_ did not converge\", ConvergenceWarning)\n",
      "/usr/local/anaconda3/lib/python3.6/site-packages/sklearn/linear_model/sag.py:326: ConvergenceWarning: The max_iter was reached which means the coef_ did not converge\n",
      "  \"the coef_ did not converge\", ConvergenceWarning)\n"
     ]
    },
    {
     "name": "stdout",
     "output_type": "stream",
     "text": [
      "{'C': 0.1, 'solver': 'sag'}\n",
      "77.19498289623718\n"
     ]
    },
    {
     "name": "stderr",
     "output_type": "stream",
     "text": [
      "/usr/local/anaconda3/lib/python3.6/site-packages/sklearn/linear_model/sag.py:326: ConvergenceWarning: The max_iter was reached which means the coef_ did not converge\n",
      "  \"the coef_ did not converge\", ConvergenceWarning)\n",
      "/usr/local/anaconda3/lib/python3.6/site-packages/sklearn/linear_model/sag.py:326: ConvergenceWarning: The max_iter was reached which means the coef_ did not converge\n",
      "  \"the coef_ did not converge\", ConvergenceWarning)\n",
      "/usr/local/anaconda3/lib/python3.6/site-packages/sklearn/linear_model/sag.py:326: ConvergenceWarning: The max_iter was reached which means the coef_ did not converge\n",
      "  \"the coef_ did not converge\", ConvergenceWarning)\n",
      "/usr/local/anaconda3/lib/python3.6/site-packages/sklearn/linear_model/sag.py:326: ConvergenceWarning: The max_iter was reached which means the coef_ did not converge\n",
      "  \"the coef_ did not converge\", ConvergenceWarning)\n"
     ]
    }
   ],
   "source": [
    "logGrid = {'solver':['newton-cg','sag','lbfgs'],'C':[0.1,0.5,1]}\n",
    "logClass = lr()\n",
    "logGs = GridSearchCV(logClass,logGrid,cv=3,verbose=0)\n",
    "logGs.fit(trainX,trainY)\n",
    "print(logGs.best_params_)\n",
    "print(logGs.best_score_*100)"
   ]
  },
  {
   "cell_type": "code",
   "execution_count": 16,
   "metadata": {},
   "outputs": [
    {
     "name": "stdout",
     "output_type": "stream",
     "text": [
      "{'max_depth': 1, 'n_estimators': 50}\n",
      "79.58950969213227\n"
     ]
    }
   ],
   "source": [
    "rfGrid = {'n_estimators':[10,20,50,100,150],'max_depth':[None,1,2,10,50]}\n",
    "rfClass = rfc()\n",
    "rfGs = GridSearchCV(rfClass,rfGrid,cv=3,verbose=0)\n",
    "rfGs.fit(trainX,trainY)\n",
    "print(rfGs.best_params_)\n",
    "print(rfGs.best_score_*100)"
   ]
  },
  {
   "cell_type": "code",
   "execution_count": 35,
   "metadata": {},
   "outputs": [
    {
     "name": "stdout",
     "output_type": "stream",
     "text": [
      "Fitting 3 folds for each of 6 candidates, totalling 18 fits\n"
     ]
    },
    {
     "name": "stderr",
     "output_type": "stream",
     "text": [
      "[Parallel(n_jobs=-1)]: Done   3 out of  18 | elapsed:    0.0s remaining:    0.2s\n"
     ]
    },
    {
     "name": "stdout",
     "output_type": "stream",
     "text": [
      "{'rf__max_depth': 5, 'rf__n_estimators': 100} 0.7879133409350056\n"
     ]
    },
    {
     "name": "stderr",
     "output_type": "stream",
     "text": [
      "[Parallel(n_jobs=-1)]: Done  18 out of  18 | elapsed:    0.5s finished\n"
     ]
    }
   ],
   "source": [
    "pipeRF = Pipeline([(\"mm\",MinMaxScaler()), \n",
    "                 (\"scaler\",StandardScaler()),\n",
    "                 (\"rf\", rfc())])\n",
    "param_grid = [{\"scaler__with_std\": [True]}, \n",
    "              {\"rf__n_estimators\": [100,150], \"rf__max_depth\": [4,5]},\n",
    "              {\"mm__feature_range\": [(0,1)]}]\n",
    "pipe_gs = GridSearchCV(pipeRF, param_grid, cv=3, verbose=1,n_jobs=-1).fit(trainX,trainY)\n",
    "print(pipe_gs.best_params_,pipe_gs.best_score_)"
   ]
  },
  {
   "cell_type": "code",
   "execution_count": 36,
   "metadata": {},
   "outputs": [
    {
     "name": "stdout",
     "output_type": "stream",
     "text": [
      "Fitting 3 folds for each of 8 candidates, totalling 24 fits\n",
      "{'lr__C': 1, 'lr__penalty': 'l1'} 0.7696693272519954\n"
     ]
    },
    {
     "name": "stderr",
     "output_type": "stream",
     "text": [
      "[Parallel(n_jobs=-1)]: Done   9 out of  24 | elapsed:    0.0s remaining:    0.1s\n",
      "[Parallel(n_jobs=-1)]: Done  24 out of  24 | elapsed:    0.1s finished\n"
     ]
    }
   ],
   "source": [
    "pipeLR = Pipeline([(\"mm\",MinMaxScaler()), \n",
    "                 (\"scaler\",StandardScaler()),\n",
    "                 (\"lr\", lr())])\n",
    "param_grid = [{\"scaler__with_std\": [True]}, \n",
    "              {\"lr__penalty\": ['l1','l2'], \"lr__C\": [1,4,5]},\n",
    "              {\"mm__feature_range\": [(0,1)]}]\n",
    "pipe_gs = GridSearchCV(pipeLR, param_grid, cv=3, verbose=1,n_jobs=-1).fit(trainX,trainY)\n",
    "print(pipe_gs.best_params_,pipe_gs.best_score_)"
   ]
  }
 ],
 "metadata": {
  "kernelspec": {
   "display_name": "Python 3",
   "language": "python",
   "name": "python3"
  },
  "language_info": {
   "codemirror_mode": {
    "name": "ipython",
    "version": 3
   },
   "file_extension": ".py",
   "mimetype": "text/x-python",
   "name": "python",
   "nbconvert_exporter": "python",
   "pygments_lexer": "ipython3",
   "version": "3.7.1"
  }
 },
 "nbformat": 4,
 "nbformat_minor": 2
}
